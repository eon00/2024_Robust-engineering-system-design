{
 "cells": [
  {
   "cell_type": "markdown",
   "metadata": {
    "id": "NtZPVPMbSBVT"
   },
   "source": [
    "## 2024년도 도전학기 '빅데이터와 인공지능을 활용한 시스템 강건설계' 데이터 챌린지"
   ]
  },
  {
   "cell_type": "markdown",
   "metadata": {
    "id": "9JLk3yutSBVV"
   },
   "source": [
    "#### - 데이터 챌린지 목표: 빅데이터 핸들링 능력, 데이터 특징 추출 및 선택 능력 평가\n",
    "#### - 제공 데이터 구성 : 스폿용접 전체 센서데이터 및 용접 시작 기록데이터\n",
    "#### - 데이터 저장 시 index = None, header = None 필수!\n",
    "#### - 총 4단계의 데이터 챌린지를 수행하며, 단계별 결과가 저장된 폴더(Result) 내의 결과물을 1개 압축파일(.zip)로 제출"
   ]
  },
  {
   "cell_type": "markdown",
   "metadata": {
    "id": "VyPWx7JTSBVW"
   },
   "source": [
    ".\n",
    "\n",
    ".\n",
    "\n",
    "."
   ]
  },
  {
   "cell_type": "markdown",
   "metadata": {
    "id": "s3r0NursSBVX"
   },
   "source": [
    "## 라이브러리 import"
   ]
  },
  {
   "cell_type": "code",
   "execution_count": 1,
   "metadata": {
    "executionInfo": {
     "elapsed": 1238,
     "status": "ok",
     "timestamp": 1649470130092,
     "user": {
      "displayName": "공과대학/최영운",
      "userId": "17538933824946727174"
     },
     "user_tz": -540
    },
    "id": "fjOhm7H7SBVX"
   },
   "outputs": [],
   "source": [
    "import pandas as pd\n",
    "import numpy  as np\n",
    "import matplotlib.pyplot as plt"
   ]
  },
  {
   "cell_type": "markdown",
   "metadata": {
    "id": "wph1qsOjSBVY"
   },
   "source": [
    "## 센서데이터, 기록데이터 보기"
   ]
  },
  {
   "cell_type": "markdown",
   "metadata": {
    "id": "uT-Mblz0SBVZ"
   },
   "source": [
    "### - 센서데이터 :\n",
    "* 가속도 / 전압 / 전류 3열로 구성 (시간열 없음)\n",
    "* 샘플링 주파수: 12800Hz\n",
    "* 데이터 시작 시간: 0초 - (0행의 시간은 0초)\n",
    "* 전체 용접 데이터에 300개의 용접 Spot 포함됨\n",
    "* 각 용접 Spot 별 용접 소요 시간 약 0.2167초 (2774행)\n",
    "\n",
    "### - 기록데이터 :\n",
    "* 센서데이터의 Spot 별 용접 시작 시점이 초(second) 단위로 기록됨"
   ]
  },
  {
   "cell_type": "markdown",
   "metadata": {
    "id": "uVZtaFTsSBVZ"
   },
   "source": [
    "### 데이터 살펴보기"
   ]
  },
  {
   "cell_type": "code",
   "execution_count": 2,
   "metadata": {
    "executionInfo": {
     "elapsed": 2587,
     "status": "ok",
     "timestamp": 1649470167916,
     "user": {
      "displayName": "공과대학/최영운",
      "userId": "17538933824946727174"
     },
     "user_tz": -540
    },
    "id": "KrPB-WN1SBVa",
    "scrolled": true
   },
   "outputs": [],
   "source": [
    "# 센서데이터\n",
    "SpotWeldingData = pd.read_csv('./SourceData/SpotweldingData.csv',   header = None, names = ['Acc', 'Voltage', 'Current'])\n",
    "\n",
    "# 기록데이터\n",
    "WeldingRecord   = pd.read_csv('./SourceData/WeldingRecord.csv',   header = None)"
   ]
  },
  {
   "cell_type": "code",
   "execution_count": 3,
   "metadata": {
    "colab": {
     "base_uri": "https://localhost:8080/",
     "height": 424
    },
    "executionInfo": {
     "elapsed": 548,
     "status": "ok",
     "timestamp": 1649423470174,
     "user": {
      "displayName": "공과대학/최영운",
      "userId": "17538933824946727174"
     },
     "user_tz": -540
    },
    "id": "BgyIfEvxSBVa",
    "outputId": "25e73b27-3ed1-4aac-940b-63bf2dc5d19f"
   },
   "outputs": [
    {
     "data": {
      "text/html": [
       "<div>\n",
       "<style scoped>\n",
       "    .dataframe tbody tr th:only-of-type {\n",
       "        vertical-align: middle;\n",
       "    }\n",
       "\n",
       "    .dataframe tbody tr th {\n",
       "        vertical-align: top;\n",
       "    }\n",
       "\n",
       "    .dataframe thead th {\n",
       "        text-align: right;\n",
       "    }\n",
       "</style>\n",
       "<table border=\"1\" class=\"dataframe\">\n",
       "  <thead>\n",
       "    <tr style=\"text-align: right;\">\n",
       "      <th></th>\n",
       "      <th>Acc</th>\n",
       "      <th>Voltage</th>\n",
       "      <th>Current</th>\n",
       "    </tr>\n",
       "  </thead>\n",
       "  <tbody>\n",
       "    <tr>\n",
       "      <th>0</th>\n",
       "      <td>-0.059992</td>\n",
       "      <td>-0.019750</td>\n",
       "      <td>-0.005049</td>\n",
       "    </tr>\n",
       "    <tr>\n",
       "      <th>1</th>\n",
       "      <td>-0.050994</td>\n",
       "      <td>-0.018299</td>\n",
       "      <td>-0.005120</td>\n",
       "    </tr>\n",
       "    <tr>\n",
       "      <th>2</th>\n",
       "      <td>-0.050619</td>\n",
       "      <td>-0.016683</td>\n",
       "      <td>-0.005038</td>\n",
       "    </tr>\n",
       "    <tr>\n",
       "      <th>3</th>\n",
       "      <td>-0.050994</td>\n",
       "      <td>-0.024928</td>\n",
       "      <td>-0.005045</td>\n",
       "    </tr>\n",
       "    <tr>\n",
       "      <th>4</th>\n",
       "      <td>-0.054368</td>\n",
       "      <td>-0.019915</td>\n",
       "      <td>-0.005161</td>\n",
       "    </tr>\n",
       "    <tr>\n",
       "      <th>...</th>\n",
       "      <td>...</td>\n",
       "      <td>...</td>\n",
       "      <td>...</td>\n",
       "    </tr>\n",
       "    <tr>\n",
       "      <th>10999995</th>\n",
       "      <td>-0.031123</td>\n",
       "      <td>-0.027203</td>\n",
       "      <td>0.004886</td>\n",
       "    </tr>\n",
       "    <tr>\n",
       "      <th>10999996</th>\n",
       "      <td>-0.037871</td>\n",
       "      <td>-0.008293</td>\n",
       "      <td>0.004792</td>\n",
       "    </tr>\n",
       "    <tr>\n",
       "      <th>10999997</th>\n",
       "      <td>-0.047619</td>\n",
       "      <td>-0.005803</td>\n",
       "      <td>0.004912</td>\n",
       "    </tr>\n",
       "    <tr>\n",
       "      <th>10999998</th>\n",
       "      <td>-0.072740</td>\n",
       "      <td>0.000825</td>\n",
       "      <td>0.004897</td>\n",
       "    </tr>\n",
       "    <tr>\n",
       "      <th>10999999</th>\n",
       "      <td>-0.070490</td>\n",
       "      <td>0.010078</td>\n",
       "      <td>0.004908</td>\n",
       "    </tr>\n",
       "  </tbody>\n",
       "</table>\n",
       "<p>11000000 rows × 3 columns</p>\n",
       "</div>"
      ],
      "text/plain": [
       "               Acc   Voltage   Current\n",
       "0        -0.059992 -0.019750 -0.005049\n",
       "1        -0.050994 -0.018299 -0.005120\n",
       "2        -0.050619 -0.016683 -0.005038\n",
       "3        -0.050994 -0.024928 -0.005045\n",
       "4        -0.054368 -0.019915 -0.005161\n",
       "...            ...       ...       ...\n",
       "10999995 -0.031123 -0.027203  0.004886\n",
       "10999996 -0.037871 -0.008293  0.004792\n",
       "10999997 -0.047619 -0.005803  0.004912\n",
       "10999998 -0.072740  0.000825  0.004897\n",
       "10999999 -0.070490  0.010078  0.004908\n",
       "\n",
       "[11000000 rows x 3 columns]"
      ]
     },
     "execution_count": 3,
     "metadata": {},
     "output_type": "execute_result"
    }
   ],
   "source": [
    "SpotWeldingData"
   ]
  },
  {
   "cell_type": "code",
   "execution_count": 4,
   "metadata": {
    "colab": {
     "base_uri": "https://localhost:8080/",
     "height": 592
    },
    "executionInfo": {
     "elapsed": 1273,
     "status": "ok",
     "timestamp": 1649423476147,
     "user": {
      "displayName": "공과대학/최영운",
      "userId": "17538933824946727174"
     },
     "user_tz": -540
    },
    "id": "MuukYn7sSBVb",
    "outputId": "ecaae6fa-f175-4ea0-c6b0-ef0c3854d074"
   },
   "outputs": [
    {
     "data": {
      "image/png": "[encoded data removed]",
      "text/plain": [
       "<Figure size 1500x1000 with 3 Axes>"
      ]
     },
     "metadata": {},
     "output_type": "display_data"
    }
   ],
   "source": [
    "plt.figure(1, figsize=(15,10))\n",
    "\n",
    "# 가속도데이터 Plot\n",
    "plt.subplot(3,1,1)\n",
    "plt.plot(SpotWeldingData.iloc[:,0], c = 'r', label = SpotWeldingData.columns[0])\n",
    "plt.legend(loc = 'upper right', fontsize = 12)\n",
    "plt.title('SpotWeldingData', fontsize = 20)\n",
    "plt.grid()\n",
    "\n",
    "# 전압데이터 Plot\n",
    "plt.subplot(3,1,2)\n",
    "plt.plot(SpotWeldingData.iloc[:,1], c = 'g', label = SpotWeldingData.columns[1])\n",
    "plt.legend(loc = 'upper right', fontsize = 12)\n",
    "plt.grid()\n",
    "\n",
    "# 전류데이터 Plot\n",
    "plt.subplot(3,1,3)\n",
    "plt.plot(SpotWeldingData.iloc[:,2], c = 'b', label = SpotWeldingData.columns[2])\n",
    "plt.legend(loc = 'upper right', fontsize = 12)\n",
    "plt.grid()\n",
    "plt.show()"
   ]
  },
  {
   "cell_type": "code",
   "execution_count": 5,
   "metadata": {},
   "outputs": [
    {
     "data": {
      "image/png": "[encoded data removed]",
      "text/plain": [
       "<Figure size 640x480 with 1 Axes>"
      ]
     },
     "metadata": {},
     "output_type": "display_data"
    }
   ],
   "source": [
    "plt.plot(SpotWeldingData.iloc[:,2], c = 'b', label = SpotWeldingData.columns[2])\n",
    "plt.legend(loc = 'upper right', fontsize = 12)\n",
    "plt.grid()\n",
    "plt.xlim(7800, 10800)\n",
    "plt.show()"
   ]
  },
  {
   "cell_type": "code",
   "execution_count": 6,
   "metadata": {
    "colab": {
     "base_uri": "https://localhost:8080/",
     "height": 363
    },
    "executionInfo": {
     "elapsed": 12,
     "status": "ok",
     "timestamp": 1649470170274,
     "user": {
      "displayName": "공과대학/최영운",
      "userId": "17538933824946727174"
     },
     "user_tz": -540
    },
    "id": "OFR-jVwRSBVb",
    "outputId": "6fee922d-9d2c-4d67-9406-6a7987d45a8c"
   },
   "outputs": [
    {
     "data": {
      "text/html": [
       "<div>\n",
       "<style scoped>\n",
       "    .dataframe tbody tr th:only-of-type {\n",
       "        vertical-align: middle;\n",
       "    }\n",
       "\n",
       "    .dataframe tbody tr th {\n",
       "        vertical-align: top;\n",
       "    }\n",
       "\n",
       "    .dataframe thead th {\n",
       "        text-align: right;\n",
       "    }\n",
       "</style>\n",
       "<table border=\"1\" class=\"dataframe\">\n",
       "  <thead>\n",
       "    <tr style=\"text-align: right;\">\n",
       "      <th></th>\n",
       "      <th>0</th>\n",
       "    </tr>\n",
       "  </thead>\n",
       "  <tbody>\n",
       "    <tr>\n",
       "      <th>0</th>\n",
       "      <td>0.617031</td>\n",
       "    </tr>\n",
       "    <tr>\n",
       "      <th>1</th>\n",
       "      <td>3.584453</td>\n",
       "    </tr>\n",
       "    <tr>\n",
       "      <th>2</th>\n",
       "      <td>6.568672</td>\n",
       "    </tr>\n",
       "    <tr>\n",
       "      <th>3</th>\n",
       "      <td>9.552969</td>\n",
       "    </tr>\n",
       "    <tr>\n",
       "      <th>4</th>\n",
       "      <td>12.520703</td>\n",
       "    </tr>\n",
       "    <tr>\n",
       "      <th>...</th>\n",
       "      <td>...</td>\n",
       "    </tr>\n",
       "    <tr>\n",
       "      <th>295</th>\n",
       "      <td>846.441406</td>\n",
       "    </tr>\n",
       "    <tr>\n",
       "      <th>296</th>\n",
       "      <td>849.409297</td>\n",
       "    </tr>\n",
       "    <tr>\n",
       "      <th>297</th>\n",
       "      <td>852.393672</td>\n",
       "    </tr>\n",
       "    <tr>\n",
       "      <th>298</th>\n",
       "      <td>855.378047</td>\n",
       "    </tr>\n",
       "    <tr>\n",
       "      <th>299</th>\n",
       "      <td>858.346016</td>\n",
       "    </tr>\n",
       "  </tbody>\n",
       "</table>\n",
       "<p>300 rows × 1 columns</p>\n",
       "</div>"
      ],
      "text/plain": [
       "              0\n",
       "0      0.617031\n",
       "1      3.584453\n",
       "2      6.568672\n",
       "3      9.552969\n",
       "4     12.520703\n",
       "..          ...\n",
       "295  846.441406\n",
       "296  849.409297\n",
       "297  852.393672\n",
       "298  855.378047\n",
       "299  858.346016\n",
       "\n",
       "[300 rows x 1 columns]"
      ]
     },
     "execution_count": 6,
     "metadata": {},
     "output_type": "execute_result"
    }
   ],
   "source": [
    "WeldingRecord"
   ]
  },
  {
   "cell_type": "code",
   "execution_count": 7,
   "metadata": {},
   "outputs": [
    {
     "data": {
      "text/plain": [
       "array([[6.17031250e-01],\n",
       "       [3.58445313e+00],\n",
       "       [6.56867187e+00],\n",
       "       [9.55296875e+00],\n",
       "       [1.25207031e+01],\n",
       "       [1.54887500e+01],\n",
       "       [1.84734375e+01],\n",
       "       [2.14414062e+01],\n",
       "       [2.44092969e+01],\n",
       "       [2.73936719e+01],\n",
       "       [3.03780469e+01],\n",
       "       [3.33460156e+01],\n",
       "       [3.49920312e+01],\n",
       "       [3.79594531e+01],\n",
       "       [4.09436719e+01],\n",
       "       [4.39279687e+01],\n",
       "       [4.68957031e+01],\n",
       "       [4.98637500e+01],\n",
       "       [5.28484375e+01],\n",
       "       [5.58164062e+01],\n",
       "       [5.87842969e+01],\n",
       "       [6.17686719e+01],\n",
       "       [6.47530469e+01],\n",
       "       [6.77210156e+01],\n",
       "       [6.93670312e+01],\n",
       "       [7.23344531e+01],\n",
       "       [7.53186719e+01],\n",
       "       [7.83029688e+01],\n",
       "       [8.12707031e+01],\n",
       "       [8.42387500e+01],\n",
       "       [8.72234375e+01],\n",
       "       [9.01914062e+01],\n",
       "       [9.31592969e+01],\n",
       "       [9.61436719e+01],\n",
       "       [9.91280469e+01],\n",
       "       [1.02096016e+02],\n",
       "       [1.03742031e+02],\n",
       "       [1.06709453e+02],\n",
       "       [1.09693672e+02],\n",
       "       [1.12677969e+02],\n",
       "       [1.15645703e+02],\n",
       "       [1.18613750e+02],\n",
       "       [1.21598438e+02],\n",
       "       [1.24566406e+02],\n",
       "       [1.27534297e+02],\n",
       "       [1.30518672e+02],\n",
       "       [1.33503047e+02],\n",
       "       [1.36471016e+02],\n",
       "       [1.38117031e+02],\n",
       "       [1.41084453e+02],\n",
       "       [1.44068672e+02],\n",
       "       [1.47052969e+02],\n",
       "       [1.50020703e+02],\n",
       "       [1.52988750e+02],\n",
       "       [1.55973437e+02],\n",
       "       [1.58941406e+02],\n",
       "       [1.61909297e+02],\n",
       "       [1.64893672e+02],\n",
       "       [1.67878047e+02],\n",
       "       [1.70846016e+02],\n",
       "       [1.72492031e+02],\n",
       "       [1.75459453e+02],\n",
       "       [1.78443672e+02],\n",
       "       [1.81427969e+02],\n",
       "       [1.84395703e+02],\n",
       "       [1.87363750e+02],\n",
       "       [1.90348437e+02],\n",
       "       [1.93316406e+02],\n",
       "       [1.96284297e+02],\n",
       "       [1.99268672e+02],\n",
       "       [2.02253047e+02],\n",
       "       [2.05221016e+02],\n",
       "       [2.06867031e+02],\n",
       "       [2.09834453e+02],\n",
       "       [2.12818672e+02],\n",
       "       [2.15802969e+02],\n",
       "       [2.18770703e+02],\n",
       "       [2.21738750e+02],\n",
       "       [2.24723437e+02],\n",
       "       [2.27691406e+02],\n",
       "       [2.30659297e+02],\n",
       "       [2.33643672e+02],\n",
       "       [2.36628047e+02],\n",
       "       [2.39596016e+02],\n",
       "       [2.41242031e+02],\n",
       "       [2.44209453e+02],\n",
       "       [2.47193672e+02],\n",
       "       [2.50177969e+02],\n",
       "       [2.53145703e+02],\n",
       "       [2.56113750e+02],\n",
       "       [2.59098437e+02],\n",
       "       [2.62066406e+02],\n",
       "       [2.65034297e+02],\n",
       "       [2.68018672e+02],\n",
       "       [2.71003047e+02],\n",
       "       [2.73971016e+02],\n",
       "       [2.75617031e+02],\n",
       "       [2.78584453e+02],\n",
       "       [2.81568672e+02],\n",
       "       [2.84552969e+02],\n",
       "       [2.87520703e+02],\n",
       "       [2.90488750e+02],\n",
       "       [2.93473437e+02],\n",
       "       [2.96441406e+02],\n",
       "       [2.99409297e+02],\n",
       "       [3.02393672e+02],\n",
       "       [3.05378047e+02],\n",
       "       [3.08346016e+02],\n",
       "       [3.09992031e+02],\n",
       "       [3.12959453e+02],\n",
       "       [3.15943672e+02],\n",
       "       [3.18927969e+02],\n",
       "       [3.21895703e+02],\n",
       "       [3.24863750e+02],\n",
       "       [3.27848437e+02],\n",
       "       [3.30816406e+02],\n",
       "       [3.33784297e+02],\n",
       "       [3.36768672e+02],\n",
       "       [3.39753047e+02],\n",
       "       [3.42721016e+02],\n",
       "       [3.44367031e+02],\n",
       "       [3.47334453e+02],\n",
       "       [3.50318672e+02],\n",
       "       [3.53302969e+02],\n",
       "       [3.56270703e+02],\n",
       "       [3.59238750e+02],\n",
       "       [3.62223437e+02],\n",
       "       [3.65191406e+02],\n",
       "       [3.68159297e+02],\n",
       "       [3.71143672e+02],\n",
       "       [3.74128047e+02],\n",
       "       [3.77096016e+02],\n",
       "       [3.78742031e+02],\n",
       "       [3.81709453e+02],\n",
       "       [3.84693672e+02],\n",
       "       [3.87677969e+02],\n",
       "       [3.90645703e+02],\n",
       "       [3.93613750e+02],\n",
       "       [3.96598437e+02],\n",
       "       [3.99566406e+02],\n",
       "       [4.02534297e+02],\n",
       "       [4.05518672e+02],\n",
       "       [4.08503047e+02],\n",
       "       [4.11471016e+02],\n",
       "       [4.13117031e+02],\n",
       "       [4.16084453e+02],\n",
       "       [4.19068672e+02],\n",
       "       [4.22052969e+02],\n",
       "       [4.25020703e+02],\n",
       "       [4.27988750e+02],\n",
       "       [4.30973437e+02],\n",
       "       [4.33941406e+02],\n",
       "       [4.36909297e+02],\n",
       "       [4.39893672e+02],\n",
       "       [4.42878047e+02],\n",
       "       [4.45846016e+02],\n",
       "       [4.47492031e+02],\n",
       "       [4.50459453e+02],\n",
       "       [4.53443672e+02],\n",
       "       [4.56427969e+02],\n",
       "       [4.59395703e+02],\n",
       "       [4.62363750e+02],\n",
       "       [4.65348437e+02],\n",
       "       [4.68316406e+02],\n",
       "       [4.71284297e+02],\n",
       "       [4.74268672e+02],\n",
       "       [4.77253047e+02],\n",
       "       [4.80221016e+02],\n",
       "       [4.81867031e+02],\n",
       "       [4.84834453e+02],\n",
       "       [4.87818672e+02],\n",
       "       [4.90802969e+02],\n",
       "       [4.93770703e+02],\n",
       "       [4.96738750e+02],\n",
       "       [4.99723437e+02],\n",
       "       [5.02691406e+02],\n",
       "       [5.05659297e+02],\n",
       "       [5.08643672e+02],\n",
       "       [5.11628047e+02],\n",
       "       [5.14596016e+02],\n",
       "       [5.16242031e+02],\n",
       "       [5.19209453e+02],\n",
       "       [5.22193672e+02],\n",
       "       [5.25177969e+02],\n",
       "       [5.28145703e+02],\n",
       "       [5.31113750e+02],\n",
       "       [5.34098438e+02],\n",
       "       [5.37066406e+02],\n",
       "       [5.40034297e+02],\n",
       "       [5.43018672e+02],\n",
       "       [5.46003047e+02],\n",
       "       [5.48971016e+02],\n",
       "       [5.50617031e+02],\n",
       "       [5.53584453e+02],\n",
       "       [5.56568672e+02],\n",
       "       [5.59552969e+02],\n",
       "       [5.62520703e+02],\n",
       "       [5.65488750e+02],\n",
       "       [5.68473438e+02],\n",
       "       [5.71441406e+02],\n",
       "       [5.74409297e+02],\n",
       "       [5.77393672e+02],\n",
       "       [5.80378047e+02],\n",
       "       [5.83346016e+02],\n",
       "       [5.84992031e+02],\n",
       "       [5.87959453e+02],\n",
       "       [5.90943672e+02],\n",
       "       [5.93927969e+02],\n",
       "       [5.96895703e+02],\n",
       "       [5.99863750e+02],\n",
       "       [6.02848438e+02],\n",
       "       [6.05816406e+02],\n",
       "       [6.08784297e+02],\n",
       "       [6.11768672e+02],\n",
       "       [6.14753047e+02],\n",
       "       [6.17721016e+02],\n",
       "       [6.19367031e+02],\n",
       "       [6.22334453e+02],\n",
       "       [6.25318672e+02],\n",
       "       [6.28302969e+02],\n",
       "       [6.31270703e+02],\n",
       "       [6.34238750e+02],\n",
       "       [6.37223438e+02],\n",
       "       [6.40191406e+02],\n",
       "       [6.43159297e+02],\n",
       "       [6.46143672e+02],\n",
       "       [6.49128047e+02],\n",
       "       [6.52096016e+02],\n",
       "       [6.53742031e+02],\n",
       "       [6.56709453e+02],\n",
       "       [6.59693672e+02],\n",
       "       [6.62677969e+02],\n",
       "       [6.65645703e+02],\n",
       "       [6.68613750e+02],\n",
       "       [6.71598438e+02],\n",
       "       [6.74566406e+02],\n",
       "       [6.77534297e+02],\n",
       "       [6.80518672e+02],\n",
       "       [6.83503047e+02],\n",
       "       [6.86471016e+02],\n",
       "       [6.88117031e+02],\n",
       "       [6.91084453e+02],\n",
       "       [6.94068672e+02],\n",
       "       [6.97052969e+02],\n",
       "       [7.00020703e+02],\n",
       "       [7.02988750e+02],\n",
       "       [7.05973438e+02],\n",
       "       [7.08941406e+02],\n",
       "       [7.11909297e+02],\n",
       "       [7.14893672e+02],\n",
       "       [7.17878047e+02],\n",
       "       [7.20846016e+02],\n",
       "       [7.22492031e+02],\n",
       "       [7.25459453e+02],\n",
       "       [7.28443672e+02],\n",
       "       [7.31427969e+02],\n",
       "       [7.34395703e+02],\n",
       "       [7.37363750e+02],\n",
       "       [7.40348438e+02],\n",
       "       [7.43316406e+02],\n",
       "       [7.46284297e+02],\n",
       "       [7.49268672e+02],\n",
       "       [7.52253047e+02],\n",
       "       [7.55221016e+02],\n",
       "       [7.56867031e+02],\n",
       "       [7.59834453e+02],\n",
       "       [7.62818672e+02],\n",
       "       [7.65802969e+02],\n",
       "       [7.68770703e+02],\n",
       "       [7.71738750e+02],\n",
       "       [7.74723438e+02],\n",
       "       [7.77691406e+02],\n",
       "       [7.80659297e+02],\n",
       "       [7.83643672e+02],\n",
       "       [7.86628047e+02],\n",
       "       [7.89596016e+02],\n",
       "       [7.91242031e+02],\n",
       "       [7.94209453e+02],\n",
       "       [7.97193672e+02],\n",
       "       [8.00177969e+02],\n",
       "       [8.03145703e+02],\n",
       "       [8.06113750e+02],\n",
       "       [8.09098438e+02],\n",
       "       [8.12066406e+02],\n",
       "       [8.15034297e+02],\n",
       "       [8.18018672e+02],\n",
       "       [8.21003047e+02],\n",
       "       [8.23971016e+02],\n",
       "       [8.25617031e+02],\n",
       "       [8.28584453e+02],\n",
       "       [8.31568672e+02],\n",
       "       [8.34552969e+02],\n",
       "       [8.37520703e+02],\n",
       "       [8.40488750e+02],\n",
       "       [8.43473438e+02],\n",
       "       [8.46441406e+02],\n",
       "       [8.49409297e+02],\n",
       "       [8.52393672e+02],\n",
       "       [8.55378047e+02],\n",
       "       [8.58346016e+02]])"
      ]
     },
     "execution_count": 7,
     "metadata": {},
     "output_type": "execute_result"
    }
   ],
   "source": [
    "# 인덱싱 편리성을 위한 array 변환\n",
    "\n",
    "WeldingRecord = np.array(WeldingRecord)\n",
    "WeldingRecord"
   ]
  },
  {
   "cell_type": "markdown",
   "metadata": {
    "id": "KyAGklToSBVc"
   },
   "source": [
    ".\n",
    "\n",
    ".\n",
    "\n",
    "."
   ]
  },
  {
   "cell_type": "markdown",
   "metadata": {
    "id": "CzJmA6y4SBVc"
   },
   "source": [
    "# [1단계] 기록데이터 활용 센서데이터 Spot 별 분할(20점)\n",
    "> #### 기록데이터 상 각각의 용접 시작 시점부터 <font color=red>용접 소요 시간</font>만큼(<font color=red>2774행≒0.2167초</font> 간) 해당 센서데이터 Spot별로 분할, 저장\n",
    "> #### 저장 경로 : 이 코드 파일이 위치한 경로의 ' SplitData' 폴더 내부\n",
    "> #### <font color=red>★ 주의: 분할된 센서 데이터는 분할 전과 동일하게 센서 종류 3열로 구성 / 데이터 size는 [2774, 3]</font>"
   ]
  },
  {
   "cell_type": "markdown",
   "metadata": {
    "id": "htWyoQOQSBVc"
   },
   "source": [
    "## 필수!\n",
    "\n",
    "#### SplitData 폴더 내부 각 데이터 파일명:\n",
    "* SpotData_1.csv, SpotData_2.csv, SpotData_3.csv, ..., SpotData_300.csv"
   ]
  },
  {
   "cell_type": "markdown",
   "metadata": {},
   "source": [
    "#### 데이터 분할을 위한 시간열 만들기\n",
    "\n",
    "SpotweldingData에 대한 시간열 생성하기 (SpotWeldingData 길이만큼 SpotWeldingData_time 생성 필수!)"
   ]
  },
  {
   "cell_type": "code",
   "execution_count": 8,
   "metadata": {},
   "outputs": [],
   "source": [
    "# 센서데이터 시간열 만들기 (변수명 수정 x)\n",
    "Fs = 12800 # 샘플링 주파수\n",
    "\n",
    "SpotWeldingData_time   = np.arange(0, len(SpotWeldingData)/Fs , 1/Fs)"
   ]
  },
  {
   "cell_type": "markdown",
   "metadata": {},
   "source": [
    "#### Spot 데이터 분할"
   ]
  },
  {
   "cell_type": "markdown",
   "metadata": {},
   "source": [
    "! 힌트 : np.where 사용시 array.round(5) 활용"
   ]
  },
  {
   "cell_type": "code",
   "execution_count": 9,
   "metadata": {
    "id": "RA9WglGoSBVd",
    "scrolled": true
   },
   "outputs": [],
   "source": [
    "# 시간열 이용하여 분할\n",
    "Start_indexes = [] # 수정 금지\n",
    "\n",
    "for i in range(WeldingRecord.shape[0]):\n",
    "    # 용접 시작 시간 인덱싱\n",
    "    Start_index = np.where( SpotWeldingData_time.round(5) == WeldingRecord[i].round(5))[0][0]\n",
    "    Start_indexes.append(Start_index) # 수정 금지\n",
    "    \n",
    "    # Spot 데이터 분할\n",
    "    temp = SpotWeldingData.iloc[ Start_indexes[i] : Start_indexes[i] + 2774 , :]\n",
    "    \n",
    "    # Spot 데이터 저장\n",
    "    temp.to_csv(f'./SplitData/SpotData_{i+1}.csv', index = None, header = None )\n",
    "    \n",
    "Start_indexes = pd.DataFrame(Start_indexes) # 수정 금지"
   ]
  },
  {
   "cell_type": "markdown",
   "metadata": {
    "id": "j0I5sOq7SBVe"
   },
   "source": [
    "### 1단계 결과물을 제출용 파일로 저장(수강생 번호 외 코드 수정 X)"
   ]
  },
  {
   "cell_type": "code",
   "execution_count": 10,
   "metadata": {
    "id": "oRdOJcMPSBVe"
   },
   "outputs": [],
   "source": [
    "StudentNo = 199   # 수강생 번호 입력\n",
    "\n",
    "SpotWeldingData_time   = pd.DataFrame(SpotWeldingData_time)\n",
    "Start_indexes          = pd.DataFrame(Start_indexes)\n",
    "SpotDataResult_1       = pd.read_csv('./SplitData/SpotData_70.csv' , header=None)\n",
    "SpotDataResult_2       = pd.read_csv('./SplitData/SpotData_263.csv', header=None)\n",
    "\n",
    "Path1 = './Result/ST%d_DC1_1.csv'%StudentNo\n",
    "Path2 = './Result/ST%d_DC1_2.csv'%StudentNo\n",
    "Path3 = './Result/ST%d_DC1_3.csv'%StudentNo\n",
    "Path4 = './Result/ST%d_DC1_4.csv'%StudentNo\n",
    "\n",
    "SpotWeldingData_time.to_csv(Path1, header=None, index=None)\n",
    "Start_indexes       .to_csv(Path2, header=None, index=None)\n",
    "SpotDataResult_1    .to_csv(Path3, header=None, index=None)\n",
    "SpotDataResult_2    .to_csv(Path4, header=None, index=None)"
   ]
  },
  {
   "cell_type": "markdown",
   "metadata": {
    "id": "a6em82hhSBVf"
   },
   "source": [
    ".\n",
    "\n",
    ".\n",
    "\n",
    "."
   ]
  },
  {
   "cell_type": "markdown",
   "metadata": {
    "id": "C4aax4TDSBVf"
   },
   "source": [
    "# [2단계] 정상/고장 데이터 분할(10점)\n",
    "\n",
    "> #### 1단계에서 분할한 <font color=red>정상 및 고장 데이터</font>로 분할\n",
    "> #### SplitData의 SpotData_1.csv ~ SpotData_300.csv 활용 -> 정상 데이터는 홀수, 고장 데이터는 짝수 (아래 필수 셀 참고)\n",
    "> #### 저장 경로 : 이 코드 파일이 위치한 경로의 'Data' 폴더 내부\n",
    "> #### ★ 데이터 size는 [2774, 3], SpotData에서 이름만 변경하여 저장"
   ]
  },
  {
   "cell_type": "markdown",
   "metadata": {},
   "source": [
    "## 필수!\n",
    "\n",
    "#### Data 폴더 내부 각 데이터 파일명:\n",
    "* <font color=blue>정상 데이터 : SpotData_1.csv, SpotData_3.csv, ... , SpotData_299.csv (홀수) -> Normal_1.csv ~ Normal_150.csv</font>\n",
    "* <font color=red>고장 데이터 : SpotData_2.csv, SpotData_4.csv, ... , SpotData_300.csv (짝수) -> Abnormal_1.csv ~ Abnormal_150.csv</font>\n",
    "\n",
    "#### <font color=red>ExerciseCode(0) Python Basic의 반복문, 조건문 및 비교 연산자</font> 참고"
   ]
  },
  {
   "cell_type": "code",
   "execution_count": 11,
   "metadata": {},
   "outputs": [],
   "source": [
    "Normal_Number   = 0 # 현재 분할한 데이터 순서 반영용 변수, 필요없을 시 삭제 가능\n",
    "Abnormal_Number = 0 # 현재 분할한 데이터 순서 반영용 변수, 필요없을 시 삭제 가능\n",
    "\n",
    "for i in range(300):\n",
    "    temp_SpotPath = './SplitData/SpotData_%d.csv'%(i+1)\n",
    "    temp_SpotData = pd.read_csv(temp_SpotPath, header = None)\n",
    "    \n",
    "    if (i+1) % 2 == 0 : \n",
    "        temp_SpotData.to_csv(f'./Data/Abnormal_{Abnormal_Number+1}.csv', index = None, header = None )\n",
    "        Abnormal_Number += 1\n",
    "    else:\n",
    "        temp_SpotData.to_csv(f'./Data/Normal_{Normal_Number+1}.csv', index = None, header = None )\n",
    "        Normal_Number += 1"
   ]
  },
  {
   "cell_type": "markdown",
   "metadata": {
    "id": "j0I5sOq7SBVe"
   },
   "source": [
    "### 2단계 결과물을 제출용 파일로 저장(수강생 번호 외 코드 수정 X)"
   ]
  },
  {
   "cell_type": "code",
   "execution_count": 12,
   "metadata": {
    "id": "oRdOJcMPSBVe"
   },
   "outputs": [],
   "source": [
    "# StudentNo = 199   # 수강생 번호 입력\n",
    "\n",
    "NormalData   = pd.read_csv('./Data/Normal_150.csv'  , header=None)\n",
    "AbnormalData = pd.read_csv('./Data/Abnormal_150.csv', header=None)\n",
    "\n",
    "Path1 = './Result/ST%d_DC2_1.csv'%StudentNo\n",
    "Path2 = './Result/ST%d_DC2_2.csv'%StudentNo\n",
    "\n",
    "NormalData  .to_csv(Path1, header=None, index=None)\n",
    "AbnormalData.to_csv(Path2, header=None, index=None)"
   ]
  },
  {
   "cell_type": "markdown",
   "metadata": {
    "id": "C4aax4TDSBVf"
   },
   "source": [
    "# [3단계] 데이터 특징 추출(10점)\n",
    "\n",
    "> ### 2단계에서 분할한 정상/고장 데이터 모두 불러와서 <font color=red>시간 영역</font>에서만 특징 추출"
   ]
  },
  {
   "cell_type": "markdown",
   "metadata": {
    "id": "mXUYJbMeSBVg"
   },
   "source": [
    "## 필수!\n",
    "* 2단계에서 추출한 데이터에 대하여 각 센서(열) 별로 아래 10개 특징값 순서대로 추출\n",
    "* 특징값 종류 및 순서(실습코드와 동일): Max, Min, Mean, RMS, Variance, Skewness, Kurtosis, Crest factor, Shape factor, Impulse factor\n",
    "* 추출된 특징데이터(DataFrame) 변수 이름: FeatureData\n",
    "* 행 순서: Normal_1, Normal_2, ... , Normal_150, Abnormal_1, Abnormal_2, ... , Abnormal_150\n",
    "* 열 순서: 실습 순서와 동일"
   ]
  },
  {
   "cell_type": "code",
   "execution_count": 13,
   "metadata": {},
   "outputs": [],
   "source": [
    "import scipy.stats       as sp\n",
    "import pywt"
   ]
  },
  {
   "cell_type": "code",
   "execution_count": 14,
   "metadata": {
    "executionInfo": {
     "elapsed": 310,
     "status": "ok",
     "timestamp": 1649470320270,
     "user": {
      "displayName": "공과대학/최영운",
      "userId": "17538933824946727174"
     },
     "user_tz": -540
    },
    "id": "jnLw7tILSBVg"
   },
   "outputs": [],
   "source": [
    "NoOfData    = 150 \n",
    "NoOfSensor  = 3\n",
    "NoOfFeature = 10"
   ]
  },
  {
   "cell_type": "code",
   "execution_count": 15,
   "metadata": {},
   "outputs": [],
   "source": [
    "def rms(x): # RMS 함수 정의\n",
    "    return np.sqrt(np.mean(x**2))"
   ]
  },
  {
   "cell_type": "code",
   "execution_count": 16,
   "metadata": {
    "colab": {
     "base_uri": "https://localhost:8080/"
    },
    "executionInfo": {
     "elapsed": 119743,
     "status": "ok",
     "timestamp": 1649470442535,
     "user": {
      "displayName": "공과대학/최영운",
      "userId": "17538933824946727174"
     },
     "user_tz": -540
    },
    "id": "w1oL4VffSBVh",
    "outputId": "bfc265f5-1154-44f3-8b2a-635099eb169e"
   },
   "outputs": [
    {
     "name": "stdout",
     "output_type": "stream",
     "text": [
      "(150, 30)\n",
      "(150, 30)\n"
     ]
    }
   ],
   "source": [
    "# 특징값 추출\n",
    "\n",
    "# 특징데이터 크기 지정\n",
    "TimeFeature_Normal   =  np.zeros((NoOfData, NoOfSensor*NoOfFeature))\n",
    "TimeFeature_Abnormal =  np.zeros((NoOfData, NoOfSensor*NoOfFeature))\n",
    "\n",
    "for i in range(NoOfData):\n",
    "    # 데이터 불러오기\n",
    "    temp_path1 = './Data/Normal_%d.csv'%(i+1)   # Normal 데이터 파일 경로\n",
    "    temp_path2 = './Data/Abnormal_%d.csv'%(i+1) # Abnormal 데이터 파일 경로\n",
    "    temp_data1 = pd.read_csv(temp_path1 , header=None, sep=',')         # 임시 Normal 데이터\n",
    "    temp_data2 = pd.read_csv(temp_path2 , header=None, sep=',')         # 임시 Abnormal 데이터\n",
    "    \n",
    "    # Time Domain 특징값 추출\n",
    "    for j in range(NoOfSensor):\n",
    "        # Normal Time Domain Feature\n",
    "        TimeFeature_Normal[i, 10*j+0] = np.max(temp_data1.iloc[:,j])\n",
    "        TimeFeature_Normal[i, 10*j+1] = np.min(temp_data1.iloc[:,j])\n",
    "        TimeFeature_Normal[i, 10*j+2] = np.mean(temp_data1.iloc[:,j])\n",
    "        TimeFeature_Normal[i, 10*j+3] = rms(temp_data1.iloc[:,j])\n",
    "        TimeFeature_Normal[i, 10*j+4] = np.var(temp_data1.iloc[:,j])\n",
    "        TimeFeature_Normal[i, 10*j+5] = sp.skew(temp_data1.iloc[:,j])\n",
    "        TimeFeature_Normal[i, 10*j+6] = sp.kurtosis(temp_data1.iloc[:,j])\n",
    "        TimeFeature_Normal[i, 10*j+7] = np.max(temp_data1.iloc[:,j])/rms(temp_data1.iloc[:,j])\n",
    "        TimeFeature_Normal[i, 10*j+8] = rms(temp_data1.iloc[:,j])/np.mean(np.abs(temp_data1.iloc[:,j]))\n",
    "        TimeFeature_Normal[i, 10*j+9] = np.max(temp_data1.iloc[:,j])/np.mean(np.abs(temp_data1.iloc[:,j]))\n",
    "        \n",
    "        # Abnormal Time Domain Feature\n",
    "        TimeFeature_Abnormal[i, 10*j+0] = np.max(temp_data2.iloc[:,j])\n",
    "        TimeFeature_Abnormal[i, 10*j+1] = np.min(temp_data2.iloc[:,j])\n",
    "        TimeFeature_Abnormal[i, 10*j+2] = np.mean(temp_data2.iloc[:,j])\n",
    "        TimeFeature_Abnormal[i, 10*j+3] = rms(temp_data2.iloc[:,j])\n",
    "        TimeFeature_Abnormal[i, 10*j+4] = np.var(temp_data2.iloc[:,j])\n",
    "        TimeFeature_Abnormal[i, 10*j+5] = sp.skew(temp_data2.iloc[:,j])\n",
    "        TimeFeature_Abnormal[i, 10*j+6] = sp.kurtosis(temp_data2.iloc[:,j])\n",
    "        TimeFeature_Abnormal[i, 10*j+7] = np.max(temp_data2.iloc[:,j])/rms(temp_data2.iloc[:,j])\n",
    "        TimeFeature_Abnormal[i, 10*j+8] = rms(temp_data2.iloc[:,j])/np.mean(np.abs(temp_data2.iloc[:,j]))\n",
    "        TimeFeature_Abnormal[i, 10*j+9] = np.max(temp_data2.iloc[:,j])/np.mean(np.abs(temp_data2.iloc[:,j]))\n",
    "        \n",
    "print(TimeFeature_Normal.shape)\n",
    "print(TimeFeature_Abnormal.shape)"
   ]
  },
  {
   "cell_type": "code",
   "execution_count": 17,
   "metadata": {},
   "outputs": [],
   "source": [
    "# 시간영역 특징 합치기\n",
    "TimeFeature = np.concatenate([TimeFeature_Normal, TimeFeature_Abnormal], axis=0) # 정상, 고장 순서로 합치기\n",
    "FeatureData = pd.DataFrame(TimeFeature)"
   ]
  },
  {
   "cell_type": "markdown",
   "metadata": {
    "id": "V42OE7qHSBVm"
   },
   "source": [
    "### 3단계 결과물 제출용 파일로 저장(수강생 번호 외 코드 수정 X)"
   ]
  },
  {
   "cell_type": "code",
   "execution_count": 18,
   "metadata": {
    "id": "4BB1zbrwSBVn"
   },
   "outputs": [],
   "source": [
    "# StudentNo = 199   # 수강생 번호 입력\n",
    "\n",
    "Path1 = './Result/ST%d_DC3.csv'%StudentNo\n",
    "\n",
    "FeatureData.to_csv(Path1, header=None, index=None)"
   ]
  },
  {
   "cell_type": "markdown",
   "metadata": {
    "id": "sQ8Et9ZjSBVn"
   },
   "source": [
    ".\n",
    "\n",
    ".\n",
    "\n",
    "."
   ]
  },
  {
   "cell_type": "markdown",
   "metadata": {
    "id": "6lX23VqNSBVn"
   },
   "source": [
    "# [4단계] t-Test 기반 주요 특징 선택(10점)"
   ]
  },
  {
   "cell_type": "markdown",
   "metadata": {
    "id": "vdP_7S30SBVn"
   },
   "source": [
    "## 필수!\n",
    "* 정상/고장의 각 특징 별 t-Test 수행, P-value 오름차순 기준 상위 10개 주요 특징 선택하여 저장\n",
    "* 선택된 특징데이터(DataFrame) 변수 이름: FeatureSelected"
   ]
  },
  {
   "cell_type": "markdown",
   "metadata": {
    "id": "bY52fjRHSBVn"
   },
   "source": [
    "#### 특징데이터 분리: 정상, 고장"
   ]
  },
  {
   "cell_type": "code",
   "execution_count": 19,
   "metadata": {
    "colab": {
     "base_uri": "https://localhost:8080/"
    },
    "executionInfo": {
     "elapsed": 531,
     "status": "ok",
     "timestamp": 1649426107769,
     "user": {
      "displayName": "공과대학/최영운",
      "userId": "17538933824946727174"
     },
     "user_tz": -540
    },
    "id": "_xHpjVMsSBVn",
    "outputId": "ac8bf51a-8ba5-46df-bcbd-86d499377842"
   },
   "outputs": [
    {
     "name": "stdout",
     "output_type": "stream",
     "text": [
      "(150, 30)\n",
      "(150, 30)\n"
     ]
    }
   ],
   "source": [
    "NoOfData = int(FeatureData.shape[0]/2)\n",
    "Normal_FeatureData   = FeatureData.iloc[:NoOfData, :]\n",
    "Abnormal_FeatureData = FeatureData.iloc[NoOfData:, :]\n",
    "\n",
    "print(Normal_FeatureData.shape)\n",
    "print(Abnormal_FeatureData.shape)"
   ]
  },
  {
   "cell_type": "markdown",
   "metadata": {
    "id": "_I1BtQkfSBVo"
   },
   "source": [
    "#### t-Test 수행, P-value 기준 정렬 (정렬된 변수명: P_value_Rank)"
   ]
  },
  {
   "cell_type": "code",
   "execution_count": 20,
   "metadata": {
    "colab": {
     "base_uri": "https://localhost:8080/",
     "height": 424
    },
    "executionInfo": {
     "elapsed": 570,
     "status": "ok",
     "timestamp": 1649426261981,
     "user": {
      "displayName": "공과대학/최영운",
      "userId": "17538933824946727174"
     },
     "user_tz": -540
    },
    "id": "aTFh6e6uSBVo",
    "outputId": "8d54bae4-9af4-43b2-834d-cbc3eed2b866",
    "scrolled": true
   },
   "outputs": [],
   "source": [
    "NoOfFeature = FeatureData.shape[1] # 추출된 Feature 갯수\n",
    "\n",
    "P_value = np.zeros((NoOfFeature , 2))\n",
    "\n",
    "# 특징값 각각 T-검정 수행\n",
    "for i in np.arange(NoOfFeature):\n",
    "    \n",
    "    T_test       = np.array(sp.ttest_ind(Normal_FeatureData.iloc[:, i] , Abnormal_FeatureData.iloc[:, i]))\n",
    "    P_value[i,0] = i          # Feature Index\n",
    "    P_value[i,1] = T_test[1]  # P값 (P-value)\n",
    "    \n",
    "P_value      = pd.DataFrame(P_value)\n",
    "P_value_Rank = P_value.sort_values([1],ascending=True)  # P-value 기준 오름차순 정렬"
   ]
  },
  {
   "cell_type": "markdown",
   "metadata": {
    "id": "OOoaAPy-SBVo"
   },
   "source": [
    "#### P-value 기준 특징 선택"
   ]
  },
  {
   "cell_type": "code",
   "execution_count": 21,
   "metadata": {},
   "outputs": [
    {
     "name": "stdout",
     "output_type": "stream",
     "text": [
      "Selected Feature Data Size : (300, 10)\n",
      "= 데이터 300개(정상/고장 각 150개씩)가 각각 10개의 최종 선택된 특징값으로 구성됨\n"
     ]
    }
   ],
   "source": [
    "Rank = 10\n",
    "\n",
    "Normal   = np.zeros((NoOfData, Rank))\n",
    "Abnormal = np.zeros((NoOfData, Rank))\n",
    "\n",
    "for i in range(Rank):\n",
    "    \n",
    "    index          = int(P_value_Rank.iloc[i,0])\n",
    "    Normal  [:, i] = Normal_FeatureData.iloc  [:, index].values\n",
    "    Abnormal[:, i] = Abnormal_FeatureData.iloc[:, index].values\n",
    "\n",
    "# 정상, 고장 특징값 합치기    \n",
    "FeatureSelected = pd.DataFrame(np.concatenate([Normal, Abnormal] , axis=0))\n",
    "\n",
    "print(\"Selected Feature Data Size :\", FeatureSelected.shape)\n",
    "print(\"= 데이터 %d개(정상/고장 각 %d개씩)가 각각 %d개의 최종 선택된 특징값으로 구성됨\"\n",
    "      %(FeatureSelected.shape[0], FeatureSelected.shape[0]/2, FeatureSelected.shape[1]))\n",
    "\n"
   ]
  },
  {
   "cell_type": "markdown",
   "metadata": {
    "id": "NS6x_d2cSBVp"
   },
   "source": [
    "### 4단계 결과물 제출용 파일로 저장(수강생 번호 외 코드 수정 X)"
   ]
  },
  {
   "cell_type": "code",
   "execution_count": 22,
   "metadata": {
    "id": "slLaPJhPSBVp"
   },
   "outputs": [],
   "source": [
    "# StudentNo = 199   # 수강생 번호 입력\n",
    "\n",
    "Path1 = './Result/ST%d_DC4_1.csv'%StudentNo\n",
    "Path2 = './Result/ST%d_DC4_2.csv'%StudentNo\n",
    "\n",
    "FeatureSelected.to_csv(Path1, header=None, index=None)\n",
    "P_value_Rank.   to_csv(Path2, header=None, index=None)"
   ]
  },
  {
   "cell_type": "markdown",
   "metadata": {
    "id": "FwYbZEMLSBVp"
   },
   "source": [
    ".\n",
    "\n",
    ".\n",
    "\n",
    "."
   ]
  },
  {
   "cell_type": "markdown",
   "metadata": {},
   "source": [
    "# [최종] 해당 코드 파일을 Result 폴더에 넣기\n",
    "\n",
    "### 1. 해당 코드 파일명의 마지막에 본인 수강생 번호로 변경(ex: 수강생 번호 13번일 경우, DataChallenge_ST-13)\n",
    "### 2. 해당코드 파일(.ipynb)을 Result 폴더에 넣기"
   ]
  },
  {
   "cell_type": "markdown",
   "metadata": {
    "id": "dKykRphzSBVr"
   },
   "source": [
    "# ● 결과가 저장된 폴더(Result) 내의 모든 파일을 하나의 zip파일로 제출\n",
    "> #### 압축파일 이름 ST(수강생번호)_DC (예시: 한 자리 수 'ST0_DC', 두 자리 수 'ST00_DC', 세 자리 수 'ST000_DC',)\n",
    "> #### SplitData, Data 폴더는 압축 필요 없음!\n",
    "> #### 영상의 가이드와 다른 방식으로 압축할 경우 감점 (필히 데이터 챌린지 가이드 영상 확인 !)"
   ]
  },
  {
   "cell_type": "code",
   "execution_count": null,
   "metadata": {},
   "outputs": [],
   "source": []
  }
 ],
 "metadata": {
  "colab": {
   "collapsed_sections": [],
   "name": "DataChallenge_ST-0(Answer).ipynb",
   "provenance": []
  },
  "kernelspec": {
   "display_name": "Python 3 (ipykernel)",
   "language": "python",
   "name": "python3"
  },
  "language_info": {
   "codemirror_mode": {
    "name": "ipython",
    "version": 3
   },
   "file_extension": ".py",
   "mimetype": "text/x-python",
   "name": "python",
   "nbconvert_exporter": "python",
   "pygments_lexer": "ipython3",
   "version": "3.9.18"
  }
 },
 "nbformat": 4,
 "nbformat_minor": 4
}
