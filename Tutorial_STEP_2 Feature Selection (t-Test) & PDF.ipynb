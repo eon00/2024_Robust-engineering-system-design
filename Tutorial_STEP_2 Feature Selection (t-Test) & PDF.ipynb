{
 "cells": [
  {
   "cell_type": "markdown",
   "metadata": {},
   "source": [
    "## 라이브러리 import"
   ]
  },
  {
   "cell_type": "code",
   "execution_count": null,
   "metadata": {},
   "outputs": [],
   "source": [
    "import pandas            as pd\n",
    "import numpy             as np\n",
    "import seaborn           as sns\n",
    "import scipy.stats       as sp\n",
    "import matplotlib.pyplot as plt"
   ]
  },
  {
   "cell_type": "markdown",
   "metadata": {},
   "source": [
    ".\n",
    "\n",
    ".\n",
    "\n",
    ".\n",
    "\n"
   ]
  },
  {
   "cell_type": "markdown",
   "metadata": {},
   "source": [
    "## 데이터 불러오기"
   ]
  },
  {
   "cell_type": "code",
   "execution_count": null,
   "metadata": {},
   "outputs": [],
   "source": [
    "FeatureData = pd.read_csv('./ProcessedData/FeatureData.csv', sep=',', header=None)\n",
    "FeatureData.shape"
   ]
  },
  {
   "cell_type": "markdown",
   "metadata": {},
   "source": [
    "특징데이터 정상/고장 분리"
   ]
  },
  {
   "cell_type": "code",
   "execution_count": null,
   "metadata": {},
   "outputs": [],
   "source": [
    "NoOfData = int(FeatureData.shape[0]/2)\n",
    "Normal_FeatureData   = FeatureData.iloc[:NoOfData, :]\n",
    "Abnormal_FeatureData = FeatureData.iloc[NoOfData:, :]\n",
    "\n",
    "print(Normal_FeatureData.shape)\n",
    "print(Abnormal_FeatureData.shape)"
   ]
  },
  {
   "cell_type": "markdown",
   "metadata": {},
   "source": [
    ".\n",
    "\n",
    ".\n",
    "\n",
    ".\n",
    "\n"
   ]
  },
  {
   "cell_type": "markdown",
   "metadata": {},
   "source": [
    "## P-value 계산"
   ]
  },
  {
   "cell_type": "code",
   "execution_count": null,
   "metadata": {},
   "outputs": [],
   "source": [
    "NoOfFeature = FeatureData.shape[1] # 추출된 Feature 갯수\n",
    "\n",
    "P_value = np.zeros((NoOfFeature , 2))\n",
    "\n",
    "# 특징값 각각 T-검정 수행\n",
    "for i in np.arange(NoOfFeature):\n",
    "    \n",
    "    T_test       = np.array(sp.ttest_ind(Normal_FeatureData.iloc[:, i] , Abnormal_FeatureData.iloc[:, i]))\n",
    "    P_value[i,0] = i          # Feature Index\n",
    "    P_value[i,1] = T_test[1]  # P값 (P-value)\n",
    "    \n",
    "P_value      = pd.DataFrame(P_value)\n",
    "P_value"
   ]
  },
  {
   "cell_type": "code",
   "execution_count": null,
   "metadata": {},
   "outputs": [],
   "source": [
    "P_value_Rank = P_value.sort_values([1],ascending=True)  # P-value 기준 오름차순 정렬\n",
    "\n",
    "P_value_Rank"
   ]
  },
  {
   "cell_type": "code",
   "execution_count": null,
   "metadata": {},
   "outputs": [],
   "source": [
    "# 특징값 저장\n",
    "path1 = './ProcessedData/P_value.csv'        # path = '파일 경로/저장할 파일 이름'\n",
    "path2 = './ProcessedData/P_value_Rank.csv'   # path = '파일 경로/저장할 파일 이름'\n",
    "P_value.to_csv(path1, sep=',', header=None, index=None)\n",
    "P_value_Rank.to_csv(path2, sep=',', header=None, index=None)"
   ]
  },
  {
   "cell_type": "markdown",
   "metadata": {},
   "source": [
    ".\n",
    "\n",
    ".\n",
    "\n",
    ".\n",
    "\n"
   ]
  },
  {
   "cell_type": "markdown",
   "metadata": {},
   "source": [
    "## PDF(Probabilistic Density Function) 그래프 확인 (정상 vs 고장)"
   ]
  },
  {
   "cell_type": "code",
   "execution_count": null,
   "metadata": {
    "scrolled": false
   },
   "outputs": [],
   "source": [
    "# P-value 낮은 순위\n",
    "FeatureRank = 1\n",
    "\n",
    "# PDF 그래프\n",
    "sns.distplot(Normal_FeatureData.iloc  [:, int(P_value_Rank.iloc[FeatureRank-1,0])], label = 'Normal')\n",
    "sns.distplot(Abnormal_FeatureData.iloc[:, int(P_value_Rank.iloc[FeatureRank-1,0])], label = 'Abnormal')\n",
    "plt.legend(loc='upper right')\n",
    "plt.show()"
   ]
  },
  {
   "cell_type": "markdown",
   "metadata": {},
   "source": [
    "## P-value 기반 구분성(유의수준↓) 상위 특징값 선택"
   ]
  },
  {
   "cell_type": "code",
   "execution_count": null,
   "metadata": {},
   "outputs": [],
   "source": [
    "Rank = 30\n",
    "\n",
    "Normal   = np.zeros((NoOfData, Rank))\n",
    "Abnormal = np.zeros((NoOfData, Rank))\n",
    "\n",
    "for i in range(Rank):\n",
    "    \n",
    "    index          = int(P_value_Rank.iloc[i,0])\n",
    "    Normal  [:, i] = Normal_FeatureData.iloc  [:, index].values\n",
    "    Abnormal[:, i] = Abnormal_FeatureData.iloc[:, index].values\n",
    "\n",
    "# 정상, 고장 특징값 합치기    \n",
    "FeatureSelected = pd.DataFrame(np.concatenate([Normal, Abnormal] , axis=0))\n",
    "\n",
    "print(\"Selected Feature Data Size :\", FeatureSelected.shape)\n",
    "print(\"= 데이터 %d개(정상/고장 각 %d개씩)가 각각 %d개의 최종 선택된 특징값으로 구성됨\"\n",
    "      %(FeatureSelected.shape[0], FeatureSelected.shape[0]/2, FeatureSelected.shape[1]))"
   ]
  },
  {
   "cell_type": "markdown",
   "metadata": {},
   "source": [
    "최종 선택된 특징 데이터 저장 (.csv 파일)"
   ]
  },
  {
   "cell_type": "code",
   "execution_count": null,
   "metadata": {},
   "outputs": [],
   "source": [
    "path = './ProcessedData/FeatureSelected.csv'   # path = '파일 경로//저장할 파일 이름'\n",
    "FeatureSelected.to_csv(path, sep=',', header=None, index=None)"
   ]
  },
  {
   "cell_type": "code",
   "execution_count": null,
   "metadata": {},
   "outputs": [],
   "source": []
  }
 ],
 "metadata": {
  "kernelspec": {
   "display_name": "Python 3 (ipykernel)",
   "language": "python",
   "name": "python3"
  },
  "language_info": {
   "codemirror_mode": {
    "name": "ipython",
    "version": 3
   },
   "file_extension": ".py",
   "mimetype": "text/x-python",
   "name": "python",
   "nbconvert_exporter": "python",
   "pygments_lexer": "ipython3",
   "version": "3.11.5"
  }
 },
 "nbformat": 4,
 "nbformat_minor": 2
}
