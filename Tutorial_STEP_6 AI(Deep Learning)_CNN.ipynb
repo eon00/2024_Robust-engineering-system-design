{
 "cells": [
  {
   "cell_type": "markdown",
   "metadata": {
    "id": "mccJhWM0EbTo"
   },
   "source": [
    "## 라이브러리 import "
   ]
  },
  {
   "cell_type": "code",
   "execution_count": null,
   "metadata": {
    "id": "DuPkeVVOEbTp"
   },
   "outputs": [],
   "source": [
    "import pandas as pd\n",
    "import numpy as np\n",
    "import matplotlib.pyplot as plt\n",
    "from scipy import signal\n",
    "import tensorflow as tf\n",
    "from tensorflow import keras"
   ]
  },
  {
   "cell_type": "code",
   "execution_count": null,
   "metadata": {},
   "outputs": [],
   "source": [
    "# 재현성을 위한 코드\n",
    "random_seed = 777\n",
    "\n",
    "tf.keras.utils.set_random_seed(random_seed)\n",
    "# tf.random.normal([5], 0, 1)"
   ]
  },
  {
   "cell_type": "markdown",
   "metadata": {
    "id": "Hi7G8rHmEbTp"
   },
   "source": [
    "## 데이터 불러오기"
   ]
  },
  {
   "cell_type": "code",
   "execution_count": null,
   "metadata": {},
   "outputs": [],
   "source": [
    "# 레이블 불러오기\n",
    "TrainLabel = np.array(pd.read_csv('./ProcessedData/TrainLabel.csv', sep = \",\", header = None))\n",
    "ValidLabel = np.array(pd.read_csv('./ProcessedData/ValidLabel.csv', sep = \",\", header = None))\n",
    "\n",
    "TrainLabel.shape, ValidLabel.shape"
   ]
  },
  {
   "cell_type": "code",
   "execution_count": null,
   "metadata": {},
   "outputs": [],
   "source": [
    "# 데이터 갯수 정의\n",
    "\n",
    "NoOfData  = 180                    # 데이터 개수\n",
    "NoOfValid = int(NoOfData/6)        # 검증 데이터 개수\n",
    "NoOftrain = NoOfData - NoOfValid   # 학습 데이터 개수\n",
    "\n",
    "NoOfData, NoOfValid, NoOftrain"
   ]
  },
  {
   "cell_type": "code",
   "execution_count": null,
   "metadata": {},
   "outputs": [],
   "source": [
    "# 데이터 길이 정의\n",
    "DataLength = 2774 # 데이터 길이\n",
    "\n",
    "DataLength"
   ]
  },
  {
   "cell_type": "code",
   "execution_count": null,
   "metadata": {},
   "outputs": [],
   "source": [
    "# 전체 가속도 데이터 만들기\n",
    "\n",
    "NoOfData   = 180      # 데이터 개수 (정상/고장 각각)\n",
    "TotalData = np.zeros([NoOfData*2, DataLength]) # 데이터 빈집\n",
    "\n",
    "for i in range(NoOfData):\n",
    "    tempNormalPath   = './SpotWeldingData/Normal_%d.csv'%(i+1)\n",
    "    tempAbnormalPath = './SpotWeldingData/Abnormal_%d.csv'%(i+1)\n",
    "    tempNormal   = pd.read_csv(tempNormalPath  ).iloc[:,0]  # 가속도 데이터\n",
    "    tempAbnormal = pd.read_csv(tempAbnormalPath).iloc[:,0]  # 가속도 데이터\n",
    "    TotalData[i,:]            = tempNormal\n",
    "    TotalData[i + NoOfData,:] = tempAbnormal\n",
    "\n",
    "TotalData.shape"
   ]
  },
  {
   "cell_type": "markdown",
   "metadata": {
    "id": "pDeddLBfEbTr"
   },
   "source": [
    "## STFT 실행 (Spectrogram 생성)"
   ]
  },
  {
   "cell_type": "code",
   "execution_count": null,
   "metadata": {},
   "outputs": [],
   "source": [
    "NoOfSensor = 1\n",
    "Fs         = 12800"
   ]
  },
  {
   "cell_type": "code",
   "execution_count": null,
   "metadata": {
    "colab": {
     "base_uri": "https://localhost:8080/"
    },
    "executionInfo": {
     "elapsed": 238,
     "status": "ok",
     "timestamp": 1651821238883,
     "user": {
      "displayName": "공과대학/최영운",
      "userId": "17538933824946727174"
     },
     "user_tz": -540
    },
    "id": "56rwl8b1EbTr",
    "outputId": "a4be90fb-44d7-4434-8180-f5d7a5952e1b"
   },
   "outputs": [],
   "source": [
    "# STFT test\n",
    "f,t,Sxx = signal.spectrogram(TotalData, Fs, nperseg = 99, noverlap = 45)\n",
    "print(\"STFT Result            :\", Sxx.shape)"
   ]
  },
  {
   "cell_type": "code",
   "execution_count": null,
   "metadata": {},
   "outputs": [],
   "source": [
    "plt.figure(figsize=(9,3))\n",
    "plt.plot(np.arange(0, 0.2167, 1/12800), TotalData[0,:])\n",
    "plt.grid()\n",
    "plt.xlabel('Time (s)')\n",
    "plt.ylabel('Acceleration (g)')\n",
    "plt.title('Spot welding acceleration')\n",
    "\n",
    "plt.show()"
   ]
  },
  {
   "cell_type": "code",
   "execution_count": null,
   "metadata": {},
   "outputs": [],
   "source": [
    "plt.figure(figsize=(9,6))\n",
    "plt.pcolormesh(t, f, Sxx[0], cmap = 'hot', alpha = 0.7)\n",
    "\n",
    "plt.xlabel('Time(s)', fontsize=12)\n",
    "plt.ylabel('Frequency(Hz)', fontsize=12)\n",
    "plt.title('STFT Result Case 1', fontsize=20)\n",
    "plt.colorbar()\n",
    "plt.show()"
   ]
  },
  {
   "cell_type": "code",
   "execution_count": null,
   "metadata": {},
   "outputs": [],
   "source": [
    "# Data Reshape for CNN\n",
    "TotalData_STFT = Sxx.reshape(Sxx.shape[0], Sxx.shape[1], Sxx.shape[2], NoOfSensor)\n",
    "print(\"Reshape_for_CNN Result :\", TotalData_STFT.shape)"
   ]
  },
  {
   "cell_type": "markdown",
   "metadata": {
    "id": "zps3qPZH0CZN"
   },
   "source": [
    "## 학습 데이터와 검증 데이터 분할"
   ]
  },
  {
   "cell_type": "code",
   "execution_count": null,
   "metadata": {},
   "outputs": [],
   "source": [
    "# 정상/고장 데이터 분할\n",
    "\n",
    "Normal   = TotalData_STFT[:NoOfData, :, :, :]\n",
    "Abnormal = TotalData_STFT[NoOfData:, :, :, :]\n",
    "\n",
    "Normal.shape, Abnormal.shape"
   ]
  },
  {
   "cell_type": "code",
   "execution_count": null,
   "metadata": {},
   "outputs": [],
   "source": [
    "# 정상 및 고장 별 학습/검증 데이터 분할\n",
    "\n",
    "Normal_train   = Normal[  :NoOftrain, :, :, :]\n",
    "Abnormal_train = Abnormal[:NoOftrain, :, :, :]\n",
    "\n",
    "Normal_valid   = Normal[  NoOftrain:, :, :, :]\n",
    "Abnormal_valid = Abnormal[NoOftrain:, :, :, :]\n",
    "\n",
    "Normal_train.shape, Abnormal_train.shape, Normal_valid.shape, Abnormal_valid.shape"
   ]
  },
  {
   "cell_type": "code",
   "execution_count": null,
   "metadata": {},
   "outputs": [],
   "source": [
    "# 학습 및 검증 데이터 분할\n",
    "\n",
    "TrainData = np.concatenate([Normal_train, Abnormal_train], axis = 0)\n",
    "ValidData = np.concatenate([Normal_valid, Abnormal_valid], axis = 0)\n",
    "\n",
    "TrainData.shape, ValidData.shape"
   ]
  },
  {
   "cell_type": "markdown",
   "metadata": {
    "id": "30U5KpqbEbTs"
   },
   "source": [
    "## CNN(Convolution Neural Network) hyperparameter 설정"
   ]
  },
  {
   "cell_type": "code",
   "execution_count": null,
   "metadata": {
    "id": "fiFW3aSeEbTt"
   },
   "outputs": [],
   "source": [
    "learningRate  = 0.001\n",
    "Epoch         = 500"
   ]
  },
  {
   "cell_type": "markdown",
   "metadata": {
    "id": "dOiUF-E5EbTt"
   },
   "source": [
    "## Keras 기반 CNN 구조(Architecture) 설계"
   ]
  },
  {
   "cell_type": "code",
   "execution_count": null,
   "metadata": {
    "id": "KGKIT1MpEbTt"
   },
   "outputs": [],
   "source": [
    "def CNN(input_data):\n",
    "    keras.backend.clear_session()\n",
    "    tf.keras.utils.set_random_seed(random_seed)\n",
    "\n",
    "    model = keras.Sequential()\n",
    "    model.add(keras.layers.InputLayer(shape=(input_data.shape[1],input_data.shape[2],input_data.shape[3])))             # Input layer\n",
    "    model.add(keras.layers.Conv2D(filters = 4, kernel_size=(3,3), strides=(1, 1), padding='same', activation=keras.activations.relu))  # Convolution layer 1\n",
    "    model.add(keras.layers.MaxPooling2D(pool_size = (2,2), strides=(2,2)))                                              # Pooling layer 1\n",
    "    model.add(keras.layers.Conv2D(filters = 8, kernel_size=(3,3), strides=(1, 1), padding='same', activation=keras.activations.relu))   # Convolution layer 2\n",
    "    \n",
    "    # Convolution/Pooling layer to Output layer\n",
    "    model.add(keras.layers.GlobalAveragePooling2D())                                                                    # Global Average Pooling (Simple Structure)\n",
    "\n",
    "    model.add(keras.layers.Dense(units = 2, activation=keras.activations.softmax))                                      # Output Layer\n",
    "\n",
    "    model.compile(optimizer= keras.optimizers.Adam(learning_rate = learningRate),\n",
    "                  loss=keras.losses.CategoricalCrossentropy(),\n",
    "                  metrics=['accuracy'])\n",
    "    return model"
   ]
  },
  {
   "cell_type": "markdown",
   "metadata": {
    "id": "KXhyxBHrEbTu"
   },
   "source": [
    "## CNN(Convolution Neural Network) 학습 및 평가 방법"
   ]
  },
  {
   "cell_type": "code",
   "execution_count": null,
   "metadata": {
    "colab": {
     "base_uri": "https://localhost:8080/"
    },
    "executionInfo": {
     "elapsed": 241,
     "status": "ok",
     "timestamp": 1651823859685,
     "user": {
      "displayName": "공과대학/최영운",
      "userId": "17538933824946727174"
     },
     "user_tz": -540
    },
    "id": "87JQxIp_EbTu",
    "outputId": "e0087efd-a4a2-4f2c-c483-28ca9be5570e"
   },
   "outputs": [],
   "source": [
    "# 모델 만들기\n",
    "CNN_model = CNN(TrainData)\n",
    "\n",
    "# 모델 구조, 파라미터 개수 확인\n",
    "CNN_model.summary()"
   ]
  },
  {
   "cell_type": "markdown",
   "metadata": {
    "id": "gISsVxFAopvo"
   },
   "source": [
    "## Keras 기반 CNN 학습 및 평가"
   ]
  },
  {
   "cell_type": "code",
   "execution_count": null,
   "metadata": {
    "scrolled": true
   },
   "outputs": [],
   "source": [
    "# 모델 학습/검증\n",
    "hist = CNN_model.fit(TrainData, TrainLabel, epochs=Epoch, verbose = 1)\n",
    "Loss, Accuracy = CNN_model.evaluate(TrainData,  TrainLabel, verbose=0)\n",
    "\n",
    "print('Final Loss and Accuracy: {:.4f}, {:.2f}%'.format(Loss, Accuracy*100))"
   ]
  },
  {
   "cell_type": "code",
   "execution_count": null,
   "metadata": {},
   "outputs": [],
   "source": [
    "# 학습 과정 확인(Loss, Accuracy)\n",
    "fig, loss_ax = plt.subplots()\n",
    "acc_ax = loss_ax.twinx()\n",
    "\n",
    "loss_ax.plot(hist.history['loss'], label='train loss', color = \"tab:red\")\n",
    "loss_ax.set_xlabel('epoch')\n",
    "loss_ax.set_ylabel('loss')\n",
    "loss_ax.legend(loc='upper left')\n",
    "\n",
    "acc_ax.plot(hist.history['accuracy'], label='train acc', color = \"tab:blue\")\n",
    "acc_ax.set_ylabel('accuracy')\n",
    "acc_ax.legend(loc='lower left')\n",
    "\n",
    "plt.show()"
   ]
  },
  {
   "cell_type": "code",
   "execution_count": null,
   "metadata": {},
   "outputs": [],
   "source": [
    "Loss, Accuracy = CNN_model.evaluate(ValidData,  ValidLabel, verbose=0)\n",
    "\n",
    "print('Validation Accuracy: {:.2f}%'.format(Accuracy*100))"
   ]
  },
  {
   "cell_type": "code",
   "execution_count": null,
   "metadata": {},
   "outputs": [],
   "source": [
    "# 모델 저장\n",
    "CNN_model.save('./MLmodels/CNN_model.keras')"
   ]
  },
  {
   "cell_type": "markdown",
   "metadata": {
    "id": "YMy5kgyRopvq"
   },
   "source": [
    "## CNN model 불러와서 진단"
   ]
  },
  {
   "cell_type": "code",
   "execution_count": null,
   "metadata": {
    "executionInfo": {
     "elapsed": 1008,
     "status": "ok",
     "timestamp": 1651484283587,
     "user": {
      "displayName": "공과대학/최영운",
      "userId": "17538933824946727174"
     },
     "user_tz": -540
    },
    "id": "O-3monSeopvq"
   },
   "outputs": [],
   "source": [
    "# 모델 불러오기\n",
    "LoadedModel = keras.models.load_model('./MLmodels/CNN_model.keras')"
   ]
  },
  {
   "cell_type": "code",
   "execution_count": null,
   "metadata": {
    "id": "nSuzYn7Hopvq"
   },
   "outputs": [],
   "source": [
    "Loss, Accuracy = LoadedModel.evaluate(ValidData,  ValidLabel, verbose=0)\n",
    "\n",
    "print('[Performance of CNN model] \\n')\n",
    "print('Accuracy : {:.2f}%'.format(Accuracy*100))"
   ]
  },
  {
   "cell_type": "code",
   "execution_count": null,
   "metadata": {},
   "outputs": [],
   "source": []
  },
  {
   "cell_type": "markdown",
   "metadata": {
    "id": "GwXrce4rqLkh"
   },
   "source": [
    "## ++. Confusion Matrix 확인"
   ]
  },
  {
   "cell_type": "code",
   "execution_count": null,
   "metadata": {
    "executionInfo": {
     "elapsed": 2,
     "status": "ok",
     "timestamp": 1651596347031,
     "user": {
      "displayName": "공과대학/최영운",
      "userId": "17538933824946727174"
     },
     "user_tz": -540
    },
    "id": "2pJ30I13udJt"
   },
   "outputs": [],
   "source": [
    "from sklearn.metrics import confusion_matrix\n",
    "import seaborn as sns"
   ]
  },
  {
   "cell_type": "code",
   "execution_count": null,
   "metadata": {
    "scrolled": true
   },
   "outputs": [],
   "source": [
    "# 분류 결과 확인\n",
    "Pred = LoadedModel.predict(ValidData)\n",
    "pd.DataFrame(Pred)"
   ]
  },
  {
   "cell_type": "code",
   "execution_count": null,
   "metadata": {
    "colab": {
     "base_uri": "https://localhost:8080/",
     "height": 488
    },
    "executionInfo": {
     "elapsed": 418,
     "status": "ok",
     "timestamp": 1651596347447,
     "user": {
      "displayName": "공과대학/최영운",
      "userId": "17538933824946727174"
     },
     "user_tz": -540
    },
    "id": "EJ1R_p71qPWi",
    "outputId": "65d34155-925d-43a6-ccac-705ef1de7455"
   },
   "outputs": [],
   "source": [
    "# One-hot encoding -> Label encoding\n",
    "true = np.argmax(ValidLabel, axis=-1)\n",
    "pred = np.argmax(Pred, axis=-1)\n",
    "\n",
    "# Confusion Matrix 생성\n",
    "CM = confusion_matrix(true, pred).T\n",
    "\n",
    "# 데이터의 실제/분류결과 이름\n",
    "x = ['Normal_True', 'Abnormal_True']\n",
    "y = ['Normal_Pred', 'Abnormal_Pred']\n",
    "\n",
    "CM_df = pd.DataFrame(CM,columns=x, index=y)\n",
    "CM_df"
   ]
  },
  {
   "cell_type": "code",
   "execution_count": null,
   "metadata": {
    "colab": {
     "base_uri": "https://localhost:8080/",
     "height": 488
    },
    "executionInfo": {
     "elapsed": 418,
     "status": "ok",
     "timestamp": 1651596347447,
     "user": {
      "displayName": "공과대학/최영운",
      "userId": "17538933824946727174"
     },
     "user_tz": -540
    },
    "id": "EJ1R_p71qPWi",
    "outputId": "65d34155-925d-43a6-ccac-705ef1de7455"
   },
   "outputs": [],
   "source": [
    "# heatmap font size\n",
    "sns.set(font_scale=1.2)\n",
    "\n",
    "# Heatmap 형태로 확인\n",
    "fig = plt.subplots(figsize=(8,8))\n",
    "\n",
    "\n",
    "# 퍼센트\n",
    "sns.heatmap(CM_df/np.sum(CM_df),\n",
    "            cmap='Blues',          # cmap Color\n",
    "            annot=True,            # Value Text\n",
    "            fmt=\".1%\",             # Value type (integer = \"d\")\n",
    "            linewidths=2)\n",
    "\n",
    "# 갯수\n",
    "# sns.heatmap(CM_df,\n",
    "#             cmap='Blues',        # cmap Color\n",
    "#             annot=True,          # Value Text\n",
    "#             fmt=\"d\",             # Value type (integer = \"d\")\n",
    "#             linewidths=2) \n",
    "\n",
    "\n",
    "\n",
    "plt.show()"
   ]
  },
  {
   "cell_type": "code",
   "execution_count": null,
   "metadata": {},
   "outputs": [],
   "source": []
  }
 ],
 "metadata": {
  "accelerator": "GPU",
  "colab": {
   "collapsed_sections": [],
   "name": "ExerciseCode_AI (5-2) AI(Deep Learning)_CNN_Keras(tf ver2~).ipynb",
   "provenance": [],
   "toc_visible": true
  },
  "kernelspec": {
   "display_name": "Python 3 (ipykernel)",
   "language": "python",
   "name": "python3"
  },
  "language_info": {
   "codemirror_mode": {
    "name": "ipython",
    "version": 3
   },
   "file_extension": ".py",
   "mimetype": "text/x-python",
   "name": "python",
   "nbconvert_exporter": "python",
   "pygments_lexer": "ipython3",
   "version": "3.12.4"
  }
 },
 "nbformat": 4,
 "nbformat_minor": 4
}
