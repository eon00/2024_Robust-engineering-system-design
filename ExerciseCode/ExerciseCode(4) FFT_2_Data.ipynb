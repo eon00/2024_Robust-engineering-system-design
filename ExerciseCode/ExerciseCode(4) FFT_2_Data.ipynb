{
 "cells": [
  {
   "cell_type": "markdown",
   "metadata": {},
   "source": [
    "## 라이브러리 import "
   ]
  },
  {
   "cell_type": "code",
   "execution_count": null,
   "metadata": {},
   "outputs": [],
   "source": [
    "import pandas as pd\n",
    "import numpy as np\n",
    "import matplotlib.pyplot as plt\n",
    "import math"
   ]
  },
  {
   "cell_type": "markdown",
   "metadata": {},
   "source": [
    "## 데이터 불러오기"
   ]
  },
  {
   "cell_type": "code",
   "execution_count": null,
   "metadata": {},
   "outputs": [],
   "source": [
    "Data = pd.read_csv('./ExampleData.csv', sep=',', header=None)\n",
    "Data.shape"
   ]
  },
  {
   "cell_type": "markdown",
   "metadata": {},
   "source": [
    "## Time domain 그래프"
   ]
  },
  {
   "cell_type": "code",
   "execution_count": null,
   "metadata": {},
   "outputs": [],
   "source": [
    "# Data.iloc[:,0] : 시간열 // Data.iloc[:,1] : 신호열 (가속도 데이터)\n",
    "# 데이터에 따라 맞추어 변경\n",
    "\n",
    "plt.figure(figsize=(16,3))\n",
    "\n",
    "plt.plot(Data.iloc[:,0], Data.iloc[:,1], 'r-')\n",
    "\n",
    "plt.grid(alpha = 0.4)    \n",
    "plt.xlabel('time(s)')\n",
    "plt.ylabel('acceleration(g)')\n",
    "plt.title('Acceleration')\n",
    "plt.show()"
   ]
  },
  {
   "cell_type": "markdown",
   "metadata": {},
   "source": [
    "## FFT 실행"
   ]
  },
  {
   "cell_type": "markdown",
   "metadata": {},
   "source": [
    "시간열 t , 데이터 x 정의"
   ]
  },
  {
   "cell_type": "code",
   "execution_count": null,
   "metadata": {},
   "outputs": [],
   "source": [
    "t = Data.iloc[:,0].values # 데이터의 시간열 선택\n",
    "x = Data.iloc[:,1].values # 데이터의 신호열 선택 (1개 신호만 선택)"
   ]
  },
  {
   "cell_type": "markdown",
   "metadata": {},
   "source": [
    "Sampling frequency 계산 : Fs = 데이터 개수/시간"
   ]
  },
  {
   "cell_type": "code",
   "execution_count": null,
   "metadata": {},
   "outputs": [],
   "source": [
    "Fs = int(len(t)/t[-1])\n",
    "Fs"
   ]
  },
  {
   "cell_type": "markdown",
   "metadata": {},
   "source": [
    "FFT 연산\n",
    "\n",
    "* f0: 주파수 정보 (x 값)\n",
    "* amp_Hz: 주파수 별 진폭 (y 값)"
   ]
  },
  {
   "cell_type": "code",
   "execution_count": null,
   "metadata": {},
   "outputs": [],
   "source": [
    "# Compute FFT\n",
    "\n",
    "NFFT   =  len(x)                              # length of signal > NFFT = 2 ^ nextpow2(length(y)) \n",
    "k      =  np.arange(NFFT)\n",
    "f0     =  k * Fs / NFFT                      # Double sides Frequency range\n",
    "f0     =  f0[range(math.trunc(NFFT/2))]      # Single side  Frequency range\n",
    "\n",
    "Y      =  np.fft.fft(x)/NFFT                 # FFT computing and normalization\n",
    "Y      =  Y[range(math.trunc(NFFT/2))]       # Single side  Frequency range\n",
    "amp_Hz =  2 * abs(Y)"
   ]
  },
  {
   "cell_type": "markdown",
   "metadata": {},
   "source": [
    "## FFT 그래프 (Frequency domain)"
   ]
  },
  {
   "cell_type": "code",
   "execution_count": null,
   "metadata": {},
   "outputs": [],
   "source": [
    "plt.figure(figsize=(15,5))\n",
    "plt.plot(f0,amp_Hz,'r', lw=1)\n",
    "plt.xlim(0, Fs/2)\n",
    "plt.ylim(0)\n",
    "plt.xlabel('frequency(Hz)')\n",
    "plt.ylabel('amplitude')\n",
    "plt.grid()"
   ]
  },
  {
   "cell_type": "code",
   "execution_count": null,
   "metadata": {},
   "outputs": [],
   "source": []
  }
 ],
 "metadata": {
  "kernelspec": {
   "display_name": "Python 3 (ipykernel)",
   "language": "python",
   "name": "python3"
  },
  "language_info": {
   "codemirror_mode": {
    "name": "ipython",
    "version": 3
   },
   "file_extension": ".py",
   "mimetype": "text/x-python",
   "name": "python",
   "nbconvert_exporter": "python",
   "pygments_lexer": "ipython3",
   "version": "3.11.7"
  }
 },
 "nbformat": 4,
 "nbformat_minor": 2
}
