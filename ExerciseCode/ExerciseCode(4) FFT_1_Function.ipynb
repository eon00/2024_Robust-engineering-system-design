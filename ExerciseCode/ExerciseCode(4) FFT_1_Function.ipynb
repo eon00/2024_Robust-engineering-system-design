{
 "cells": [
  {
   "cell_type": "markdown",
   "metadata": {},
   "source": [
    "## 라이브러리 import "
   ]
  },
  {
   "cell_type": "code",
   "execution_count": null,
   "metadata": {},
   "outputs": [],
   "source": [
    "import pandas as pd\n",
    "import numpy as np\n",
    "import matplotlib.pyplot as plt\n",
    "import math"
   ]
  },
  {
   "cell_type": "markdown",
   "metadata": {},
   "source": [
    "## 주파수 f, 각주파수 w 정의"
   ]
  },
  {
   "cell_type": "code",
   "execution_count": null,
   "metadata": {},
   "outputs": [],
   "source": [
    "f1 = 2  # 주파수 입력\n",
    "f2 = 3\n",
    "f3 = 5\n",
    "f4 = 21\n",
    "f5 = 30\n",
    "\n",
    "w1 = 2*np.pi*f1  # w = 2pi*f\n",
    "w2 = 2*np.pi*f2\n",
    "w3 = 2*np.pi*f3\n",
    "w4 = 2*np.pi*f4\n",
    "w5 = 2*np.pi*f5"
   ]
  },
  {
   "cell_type": "code",
   "execution_count": null,
   "metadata": {},
   "outputs": [],
   "source": [
    "amp1 = 1\n",
    "amp2 = 7\n",
    "amp3 = 4\n",
    "amp4 = 10\n",
    "amp5 = 8"
   ]
  },
  {
   "cell_type": "code",
   "execution_count": null,
   "metadata": {},
   "outputs": [],
   "source": [
    "print(\"f1 =\",f1, \"/ f2 =\",f2, \"/ f3 =\",f3, \"/ f4 =\",f4, \"/ f5 =\",f5 )\n",
    "print(\"w1 =\",w1, \"/ w2 =\",w2, \"/ w3 =\",w3, \"/ w4 =\",w4, \"/ w5 =\",w5 )\n",
    "print(\"amp1 =\", amp1, \"/ amp2 =\", amp2, \"/ amp3 =\", amp3, \"/ amp4 =\", amp4, \"/ amp5 =\", amp5)"
   ]
  },
  {
   "cell_type": "markdown",
   "metadata": {},
   "source": [
    "## 샘플링 주파수, 이산함수 정의 및 그래프"
   ]
  },
  {
   "cell_type": "code",
   "execution_count": null,
   "metadata": {},
   "outputs": [],
   "source": [
    "t = np.arange(0,10,0.01)   # sampling freq : 100 Hz // sampling time : 10 seconds\n",
    "# t = np.arange(0, 10, 0.001)  # sampling freq : 1000 Hz\n",
    "\n",
    "x1 = amp1*np.sin(w1*t)\n",
    "x2 = amp2*np.sin(w2*t)\n",
    "x3 = amp3*np.sin(w3*t)\n",
    "x4 = amp4*np.sin(w4*t)\n",
    "x5 = amp5*np.sin(w5*t)\n",
    "\n",
    "t.shape"
   ]
  },
  {
   "cell_type": "code",
   "execution_count": null,
   "metadata": {},
   "outputs": [],
   "source": [
    "# 정현파 신호 그래프 확인하기\n",
    "plt.figure(figsize=(16,10))\n",
    "\n",
    "plt.subplot(5,1,1)\n",
    "plt.plot(t, x1, 'r-')\n",
    "plt.ylim(-15, 15)\n",
    "plt.grid(alpha = 0.4)\n",
    "\n",
    "plt.subplot(5,1,2)\n",
    "plt.plot(t, x2, 'r-')\n",
    "plt.ylim(-15, 15)\n",
    "plt.grid(alpha = 0.4)\n",
    "\n",
    "plt.subplot(5,1,3)\n",
    "plt.plot(t, x3, 'r-')\n",
    "plt.ylim(-15, 15)\n",
    "plt.grid(alpha = 0.4)\n",
    "\n",
    "plt.subplot(5,1,4)\n",
    "plt.plot(t, x4, 'r-')\n",
    "plt.ylim(-15, 15)\n",
    "plt.grid(alpha = 0.4)\n",
    "\n",
    "plt.subplot(5,1,5)\n",
    "plt.plot(t, x5, 'r-')\n",
    "plt.ylim(-15, 15)\n",
    "plt.grid(alpha = 0.4)\n",
    "\n",
    "plt.xlabel('t',fontsize=20)\n",
    "plt.show()"
   ]
  },
  {
   "cell_type": "code",
   "execution_count": null,
   "metadata": {},
   "outputs": [],
   "source": [
    "x = x1 + x2 + x3 + x4 + x5 # 정현파 모두 합성\n",
    "\n",
    "plt.figure(figsize=(16,3))\n",
    "plt.plot(t, x, 'r-')\n",
    "plt.xlabel('t',fontsize=20)\n",
    "plt.ylabel('x',fontsize=20)\n",
    "plt.grid(alpha = 0.4)\n",
    "# plt.xlim(0,1)\n",
    "plt.show()"
   ]
  },
  {
   "cell_type": "markdown",
   "metadata": {},
   "source": [
    "## FFT 실행"
   ]
  },
  {
   "cell_type": "markdown",
   "metadata": {},
   "source": [
    "Sampling frequency 계산 : Fs = 데이터 개수/시간"
   ]
  },
  {
   "cell_type": "code",
   "execution_count": null,
   "metadata": {},
   "outputs": [],
   "source": [
    "Fs = int(len(t)/t[-1])\n",
    "Fs"
   ]
  },
  {
   "cell_type": "markdown",
   "metadata": {},
   "source": [
    "FFT 연산\n",
    "\n",
    "* f0: 주파수 정보 (x 값)\n",
    "* amp_Hz: 주파수 별 진폭 (y 값)"
   ]
  },
  {
   "cell_type": "code",
   "execution_count": null,
   "metadata": {},
   "outputs": [],
   "source": [
    "# Compute FFT\n",
    "\n",
    "NFFT   =  len(x)                              # length of signal > NFFT = 2 ^ nextpow2(length(y)) \n",
    "k      =  np.arange(NFFT)\n",
    "f0     =  k * Fs / NFFT                      # Double sides Frequency range\n",
    "f0     =  f0[range(math.trunc(NFFT/2))]      # Single side  Frequency range\n",
    "\n",
    "Y      =  np.fft.fft(x)/NFFT                 # FFT computing and normalization\n",
    "Y      =  Y[range(math.trunc(NFFT/2))]       # Single side  Frequency range\n",
    "amp_Hz =  2 * abs(Y)"
   ]
  },
  {
   "cell_type": "code",
   "execution_count": null,
   "metadata": {},
   "outputs": [],
   "source": [
    "plt.figure(figsize=(16,5))\n",
    "plt.plot(f0,amp_Hz,'r.-', lw=1)\n",
    "plt.xlim(0, Fs/2)\n",
    "plt.ylim(0)\n",
    "plt.xticks(np.arange(0,(Fs/2)+1))\n",
    "plt.xlabel('frequency(Hz)')\n",
    "plt.ylabel('amplitude')\n",
    "plt.grid()"
   ]
  },
  {
   "cell_type": "code",
   "execution_count": null,
   "metadata": {},
   "outputs": [],
   "source": []
  }
 ],
 "metadata": {
  "kernelspec": {
   "display_name": "Python 3 (ipykernel)",
   "language": "python",
   "name": "python3"
  },
  "language_info": {
   "codemirror_mode": {
    "name": "ipython",
    "version": 3
   },
   "file_extension": ".py",
   "mimetype": "text/x-python",
   "name": "python",
   "nbconvert_exporter": "python",
   "pygments_lexer": "ipython3",
   "version": "3.11.7"
  }
 },
 "nbformat": 4,
 "nbformat_minor": 2
}
