{
 "cells": [
  {
   "cell_type": "markdown",
   "metadata": {},
   "source": [
    "## 라이브러리(패키지) import"
   ]
  },
  {
   "cell_type": "markdown",
   "metadata": {},
   "source": [
    "데이터프레임, 행렬, 그래프 그리기 위한 라이브러리"
   ]
  },
  {
   "cell_type": "code",
   "execution_count": null,
   "metadata": {},
   "outputs": [],
   "source": [
    "import pandas as pd\n",
    "import numpy as np\n",
    "import matplotlib.pyplot as plt"
   ]
  },
  {
   "cell_type": "markdown",
   "metadata": {},
   "source": [
    "## 데이터 불러오기"
   ]
  },
  {
   "cell_type": "markdown",
   "metadata": {},
   "source": [
    "현재폴더 데이터 불러오기"
   ]
  },
  {
   "cell_type": "code",
   "execution_count": null,
   "metadata": {
    "scrolled": false
   },
   "outputs": [],
   "source": [
    "ExampleData = pd.read_csv('./ExampleData.csv', sep=',', header=None)\n",
    "ExampleData"
   ]
  },
  {
   "cell_type": "markdown",
   "metadata": {},
   "source": [
    "하위폴더 데이터 불러오기"
   ]
  },
  {
   "cell_type": "code",
   "execution_count": null,
   "metadata": {
    "scrolled": true
   },
   "outputs": [],
   "source": [
    "path = './Subfolder/ExampleData2.csv' # 파일 경로\n",
    "ExampleData2 = pd.read_csv(path, sep=',',names=['time', 'Accelerometer', 'Voltage', 'Current'])\n",
    "ExampleData2"
   ]
  },
  {
   "cell_type": "markdown",
   "metadata": {},
   "source": [
    "## 데이터 핸들링 (Handling)"
   ]
  },
  {
   "cell_type": "markdown",
   "metadata": {},
   "source": [
    "시간열(time column) 제거한 센서 데이터 추출"
   ]
  },
  {
   "cell_type": "code",
   "execution_count": null,
   "metadata": {},
   "outputs": [],
   "source": [
    "SensorDataOnly = ExampleData.iloc[:,1:]\n",
    "SensorDataOnly"
   ]
  },
  {
   "cell_type": "markdown",
   "metadata": {},
   "source": [
    "0.01초부터 0.02초까지 해당하는 데이터 추출"
   ]
  },
  {
   "cell_type": "code",
   "execution_count": null,
   "metadata": {
    "scrolled": true
   },
   "outputs": [],
   "source": [
    "StartPoint = np.where(ExampleData.iloc[:,0].values == 0.01)[0][0]\n",
    "EndPoint   = np.where(ExampleData.iloc[:,0].values == 0.02)[0][0]\n",
    "\n",
    "StartPoint, EndPoint"
   ]
  },
  {
   "cell_type": "code",
   "execution_count": null,
   "metadata": {
    "scrolled": true
   },
   "outputs": [],
   "source": [
    "NewData = ExampleData.iloc[StartPoint:EndPoint, :]\n",
    "NewData"
   ]
  },
  {
   "cell_type": "markdown",
   "metadata": {},
   "source": [
    "데이터를 파일(.csv)로 저장"
   ]
  },
  {
   "cell_type": "code",
   "execution_count": null,
   "metadata": {},
   "outputs": [],
   "source": [
    "path = './Subfolder/NewData_exercise.csv'\n",
    "NewData.to_csv(path , sep=',' , header=None , index=None)"
   ]
  },
  {
   "cell_type": "markdown",
   "metadata": {},
   "source": [
    "데이터 행렬바꾸기"
   ]
  },
  {
   "cell_type": "code",
   "execution_count": null,
   "metadata": {
    "scrolled": true
   },
   "outputs": [],
   "source": [
    "TransposedData = np.transpose(NewData)\n",
    "TransposedData.shape"
   ]
  },
  {
   "cell_type": "markdown",
   "metadata": {},
   "source": [
    "## 데이터 그래프 그리기"
   ]
  },
  {
   "cell_type": "markdown",
   "metadata": {},
   "source": [
    "그리드, 라벨, 제목, 범례 표시 등"
   ]
  },
  {
   "cell_type": "code",
   "execution_count": null,
   "metadata": {
    "scrolled": true
   },
   "outputs": [],
   "source": [
    "# ExampleData 0열 (1번째 열) = 시간\n",
    "# ExampleData 1열 (2번째 열) = 가속도 센서 데이터\n",
    "\n",
    "plt.plot(ExampleData.iloc[:,0], ExampleData.iloc[:,1])\n",
    "plt.grid()                                                     # 그리드 표시\n",
    "plt.xlabel('time(s)')                                          # x 라벨 표시\n",
    "plt.ylabel('Acceleration(g)')                                  # y 라벨 표시\n",
    "plt.title('Spot Welding Acceleration Data')                    # 제목 표시\n",
    "plt.legend(['Acc'], loc = 'upper right', fontsize=10)          # 범례 표시\n",
    "#plt.xlim(0,0.02) # x축 범위 설정\n",
    "plt.ylim(-1.5,1.5) # y축 범위 설정\n",
    "plt.show()"
   ]
  },
  {
   "cell_type": "code",
   "execution_count": null,
   "metadata": {},
   "outputs": [],
   "source": [
    "# ExampleData 0열 (1번째 열) = 시간\n",
    "# ExampleData 2열 (3번째 열) = 전압 센서 데이터\n",
    "\n",
    "plt.plot(ExampleData.iloc[:,0], ExampleData.iloc[:,2])\n",
    "plt.grid()                                                     # 그리드 표시\n",
    "plt.xlabel('time(s)')                                          # x 라벨 표시\n",
    "plt.ylabel('Voltage(V)')                                       # y 라벨 표시\n",
    "plt.title('Spot Welding Voltage Data')                         # 제목 표시\n",
    "plt.legend(['Voltage'], loc = 'upper right', fontsize=10)      # 범례 표시\n",
    "plt.show()"
   ]
  },
  {
   "cell_type": "code",
   "execution_count": null,
   "metadata": {},
   "outputs": [],
   "source": [
    "# ExampleData 0열 (1번째 열) = 시간\n",
    "# ExampleData 3열 (4번째 열) = 전류 센서 데이터\n",
    "\n",
    "plt.plot(ExampleData.iloc[:,0], ExampleData.iloc[:,3])\n",
    "plt.grid()                                                     # 그리드 표시\n",
    "plt.xlabel('time(s)')                                          # x 라벨 표시\n",
    "plt.ylabel('Current(kA)')                                      # y 라벨 표시\n",
    "plt.title('Spot Welding Current Data')                         # 제목 표시\n",
    "plt.legend(['Current'], loc = 'upper right', fontsize=10)      # 범례 표시\n",
    "plt.show()\n"
   ]
  },
  {
   "cell_type": "markdown",
   "metadata": {},
   "source": [
    "그래프 모양 변경 등"
   ]
  },
  {
   "cell_type": "code",
   "execution_count": null,
   "metadata": {},
   "outputs": [],
   "source": [
    "plt.figure(figsize = (12,9))\n",
    "plt.plot(ExampleData.iloc[:100,0],ExampleData.iloc[:100,1],\n",
    "         linestyle       = '-.', \n",
    "         linewidth       = 2.0, \n",
    "         color           = 'b',           \n",
    "         marker          = 'o', \n",
    "         markersize      = 8, \n",
    "         markeredgecolor = 'g', \n",
    "         markeredgewidth = 1.5, \n",
    "         markerfacecolor = 'r', \n",
    "         alpha           = 0.5)\n",
    "\n",
    "plt.grid()\n",
    "plt.xlabel('time(s)') \n",
    "plt.ylabel('Acceleration(g)')\n",
    "plt.title('Spot Welding Acceleration Data') \n",
    "plt.legend(['Acc'], loc = 'upper right', fontsize=10)"
   ]
  },
  {
   "cell_type": "markdown",
   "metadata": {},
   "source": [
    "그래프 겹쳐서 그리기"
   ]
  },
  {
   "cell_type": "code",
   "execution_count": null,
   "metadata": {},
   "outputs": [],
   "source": [
    "DataLength = 100   # 데이터 길이 100개까지만 제한 (~100/12800 초까지)\n",
    "\n",
    "plt.plot(ExampleData.iloc[:DataLength,0],ExampleData.iloc[:DataLength,1])\n",
    "plt.plot(ExampleData.iloc[:DataLength,0],ExampleData.iloc[:DataLength,2])\n",
    "plt.plot(ExampleData.iloc[:DataLength,0],ExampleData.iloc[:DataLength,3])\n",
    "\n",
    "plt.xlabel('time(s)')\n",
    "plt.ylabel('Acceleration(g)')\n",
    "plt.title('Spot Welding Acceleration Data')\n",
    "plt.legend(['Acc', 'Voltage', 'Current'], loc = 'upper right', fontsize=10)\n",
    "\n",
    "plt.grid()\n",
    "plt.show()"
   ]
  },
  {
   "cell_type": "code",
   "execution_count": null,
   "metadata": {},
   "outputs": [],
   "source": []
  }
 ],
 "metadata": {
  "kernelspec": {
   "display_name": "Python 3 (ipykernel)",
   "language": "python",
   "name": "python3"
  },
  "language_info": {
   "codemirror_mode": {
    "name": "ipython",
    "version": 3
   },
   "file_extension": ".py",
   "mimetype": "text/x-python",
   "name": "python",
   "nbconvert_exporter": "python",
   "pygments_lexer": "ipython3",
   "version": "3.11.7"
  }
 },
 "nbformat": 4,
 "nbformat_minor": 2
}
