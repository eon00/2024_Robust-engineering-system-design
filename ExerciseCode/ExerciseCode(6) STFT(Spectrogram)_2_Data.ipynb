{
 "cells": [
  {
   "cell_type": "markdown",
   "metadata": {},
   "source": [
    "## 라이브러리 import "
   ]
  },
  {
   "cell_type": "code",
   "execution_count": null,
   "metadata": {},
   "outputs": [],
   "source": [
    "import pandas as pd\n",
    "import numpy as np\n",
    "import matplotlib.pyplot as plt\n",
    "from scipy import signal\n",
    "import math"
   ]
  },
  {
   "cell_type": "markdown",
   "metadata": {},
   "source": [
    "## 데이터 불러오기"
   ]
  },
  {
   "cell_type": "code",
   "execution_count": null,
   "metadata": {},
   "outputs": [],
   "source": [
    "Data = pd.read_csv('./ExampleData.csv', sep=',', header=None)\n",
    "Data.shape"
   ]
  },
  {
   "cell_type": "markdown",
   "metadata": {},
   "source": [
    "## Time domain 그래프"
   ]
  },
  {
   "cell_type": "code",
   "execution_count": null,
   "metadata": {},
   "outputs": [],
   "source": [
    "# Data.iloc[:,0] : 시간열 // Data.iloc[:,1] : 신호열 (가속도 데이터)\n",
    "# 데이터에 따라 맞추어 변경\n",
    "\n",
    "plt.figure(figsize=(16,3))\n",
    "\n",
    "plt.plot(Data.iloc[:,0], Data.iloc[:,1], 'r-')\n",
    "\n",
    "plt.grid(alpha = 0.4)    \n",
    "plt.xlabel('time(s)')\n",
    "plt.ylabel('acceleration(g)')\n",
    "plt.title('Acceleration')\n",
    "plt.show()"
   ]
  },
  {
   "cell_type": "markdown",
   "metadata": {},
   "source": [
    "## STFT 실행 (Spectrogram 생성)"
   ]
  },
  {
   "cell_type": "code",
   "execution_count": null,
   "metadata": {},
   "outputs": [],
   "source": [
    "Fs = 12800\n",
    "x  = Data.iloc[:,1].values # 데이터의 신호열 선택(가속도 데이터)"
   ]
  },
  {
   "cell_type": "code",
   "execution_count": null,
   "metadata": {},
   "outputs": [],
   "source": [
    "f,t,Sxx = signal.spectrogram(x, Fs, nperseg = 99, noverlap = 45)\n",
    "f.shape, t.shape, Sxx.shape"
   ]
  },
  {
   "cell_type": "markdown",
   "metadata": {},
   "source": [
    "## STFT 그래프 (Frequency & Time domain)"
   ]
  },
  {
   "cell_type": "code",
   "execution_count": null,
   "metadata": {
    "scrolled": false
   },
   "outputs": [],
   "source": [
    "plt.figure(figsize=(9,6))\n",
    "plt.pcolormesh(t, f, Sxx, cmap = 'hot', alpha = 0.7)\n",
    "\n",
    "plt.xlabel('Time(s)', fontsize=12)\n",
    "plt.ylabel('Frequency(Hz)', fontsize=12)\n",
    "plt.title('ExampleData STFT Result', fontsize=20)\n",
    "plt.colorbar()\n",
    "plt.grid(alpha = 0.4)\n",
    "\n",
    "plt.show()"
   ]
  },
  {
   "cell_type": "code",
   "execution_count": null,
   "metadata": {},
   "outputs": [],
   "source": []
  }
 ],
 "metadata": {
  "kernelspec": {
   "display_name": "Python 3 (ipykernel)",
   "language": "python",
   "name": "python3"
  },
  "language_info": {
   "codemirror_mode": {
    "name": "ipython",
    "version": 3
   },
   "file_extension": ".py",
   "mimetype": "text/x-python",
   "name": "python",
   "nbconvert_exporter": "python",
   "pygments_lexer": "ipython3",
   "version": "3.11.7"
  }
 },
 "nbformat": 4,
 "nbformat_minor": 4
}
