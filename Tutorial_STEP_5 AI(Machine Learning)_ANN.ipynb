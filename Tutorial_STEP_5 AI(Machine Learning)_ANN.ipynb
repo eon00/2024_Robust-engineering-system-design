{
 "cells": [
  {
   "cell_type": "markdown",
   "metadata": {},
   "source": [
    "## 라이브러리 import"
   ]
  },
  {
   "cell_type": "code",
   "execution_count": null,
   "metadata": {},
   "outputs": [],
   "source": [
    "import pandas as pd\n",
    "import numpy as np\n",
    "import matplotlib.pyplot as plt"
   ]
  },
  {
   "cell_type": "code",
   "execution_count": null,
   "metadata": {},
   "outputs": [],
   "source": [
    "import tensorflow as tf\n",
    "from tensorflow import keras"
   ]
  },
  {
   "cell_type": "code",
   "execution_count": null,
   "metadata": {},
   "outputs": [],
   "source": [
    "# 재현성을 위한 코드\n",
    "random_seed = 777\n",
    "\n",
    "tf.keras.utils.set_random_seed(random_seed)\n",
    "# tf.random.normal([5], 0, 1)"
   ]
  },
  {
   "cell_type": "markdown",
   "metadata": {
    "id": "UTYJ_iv3opvm"
   },
   "source": [
    "## 데이터 불러오기"
   ]
  },
  {
   "cell_type": "code",
   "execution_count": null,
   "metadata": {
    "id": "MXAvsTUvopvm"
   },
   "outputs": [],
   "source": [
    "TrainData = np.array(pd.read_csv('./ProcessedData/TrainData.csv', sep = \",\", header = None))\n",
    "ValidData = np.array(pd.read_csv('./ProcessedData/ValidData.csv', sep = \",\", header = None))\n",
    "\n",
    "TrainLabel = np.array(pd.read_csv('./ProcessedData/TrainLabel.csv', sep = \",\", header = None))\n",
    "ValidLabel = np.array(pd.read_csv('./ProcessedData/ValidLabel.csv', sep = \",\", header = None))\n",
    "\n",
    "TrainData.shape, ValidData.shape, TrainLabel.shape, ValidLabel.shape"
   ]
  },
  {
   "cell_type": "markdown",
   "metadata": {
    "id": "gyY7TnZt-gsi"
   },
   "source": [
    "## Keras 기반 ANN(Artificial Neural Network) 구조 설계를 위한 기본 사항"
   ]
  },
  {
   "cell_type": "code",
   "execution_count": null,
   "metadata": {
    "id": "bbdBlToG-LJM"
   },
   "outputs": [],
   "source": [
    "# 모델 선언, 입력 Layer 삽입\n",
    "keras.backend.clear_session() # 세션 지우기: Keras에서 가지고 있는 변수 초기화\n",
    "model = keras.Sequential()\n",
    "model.add(keras.layers.InputLayer(shape = (20,)))\n",
    "model.summary()"
   ]
  },
  {
   "cell_type": "code",
   "execution_count": null,
   "metadata": {
    "id": "6vfETDXT-eMx"
   },
   "outputs": [],
   "source": [
    "# 모델에 Dense Layer 삽입\n",
    "model.add(keras.layers.Dense(units = 10, name = 'Layer1'))\n",
    "model.summary()"
   ]
  },
  {
   "cell_type": "code",
   "execution_count": null,
   "metadata": {
    "id": "pic-QA6-ACIy"
   },
   "outputs": [],
   "source": [
    "# 활성화 함수가 있는 Dense Layer 넣기, 파라미터 값 초기화\n",
    "model.add(keras.layers.Dense(units = 10, activation = keras.activations.relu,\n",
    "                             kernel_initializer = keras.initializers.Zeros(), name = 'Layer2'))\n",
    "model.summary()"
   ]
  },
  {
   "cell_type": "code",
   "execution_count": null,
   "metadata": {
    "id": "7HklukRbDeiA"
   },
   "outputs": [],
   "source": [
    "# 모델의 Layer 별 파라미터 보기\n",
    "model.get_weights()[-1]"
   ]
  },
  {
   "cell_type": "code",
   "execution_count": null,
   "metadata": {
    "id": "QlZU4psbBApe"
   },
   "outputs": [],
   "source": [
    "# 마지막 Layer 지우기\n",
    "model.pop()\n",
    "model.summary()"
   ]
  },
  {
   "cell_type": "code",
   "execution_count": null,
   "metadata": {
    "id": "KDa419BPCLBJ"
   },
   "outputs": [],
   "source": [
    "# 모델 \n",
    "model.add(keras.layers.Dense(units = 2, activation = keras.activations.relu, name = 'Layer3'))\n",
    "model.summary()"
   ]
  },
  {
   "cell_type": "markdown",
   "metadata": {
    "id": "TwgRfDG6opvn"
   },
   "source": [
    "## ANN(Artificial Neural Network) hyperparameter 설정"
   ]
  },
  {
   "cell_type": "code",
   "execution_count": null,
   "metadata": {
    "id": "oBYZBbydopvn"
   },
   "outputs": [],
   "source": [
    "learningRate  = 0.0001\n",
    "noOfNeuron    = 16\n",
    "Epoch         = 500"
   ]
  },
  {
   "cell_type": "markdown",
   "metadata": {
    "id": "75cWnGCIopvn"
   },
   "source": [
    "## Keras 기반 ANN 구조(Architecture) 설계"
   ]
  },
  {
   "cell_type": "markdown",
   "metadata": {
    "id": "9yCi-yvzopvn"
   },
   "source": [
    "https://keras.io/api/layers/activations/ : 활성화 함수 참고   \n",
    "https://keras.io/api/optimizers/: 최적화 알고리즘 참고   \n",
    "https://keras.io/api/losses/probabilistic_losses/ : 분류모델 손실함수 참고"
   ]
  },
  {
   "cell_type": "code",
   "execution_count": null,
   "metadata": {
    "id": "sZvrun9Oopvo"
   },
   "outputs": [],
   "source": [
    "def ANN(input_data):\n",
    "    keras.backend.clear_session() # 세션 지우기\n",
    "    tf.keras.utils.set_random_seed(random_seed)\n",
    "\n",
    "    model = keras.Sequential()\n",
    "    model.add(keras.layers.InputLayer(shape = (input_data.shape[1],) ))                                            # Input  Layer\n",
    "    model.add(keras.layers.Dense(units = noOfNeuron, activation = keras.activations.relu,    name = 'Hidden1'))    # Hidden Layer 1\n",
    "    model.add(keras.layers.Dense(units = noOfNeuron, activation = keras.activations.relu,    name = 'Hidden2'))    # Hidden Layer 2\n",
    "    model.add(keras.layers.Dense(units = 2,          activation = keras.activations.softmax, name = 'Output'))     # Output Layer\n",
    "    \n",
    "    model.compile(optimizer = keras.optimizers.Adam(learning_rate = learningRate), # 최적화 알고리즘\n",
    "                  loss = keras.losses.CategoricalCrossentropy(),                   # 손실 함수(최적화 목적 함수)\n",
    "                  metrics = ['accuracy'])                                          # 학습 과정에서 측정할 지표\n",
    "    return model"
   ]
  },
  {
   "cell_type": "code",
   "execution_count": null,
   "metadata": {
    "id": "wWxSRDntopvo"
   },
   "outputs": [],
   "source": [
    "# 모델 만들기\n",
    "ANN_model = ANN(TrainData)\n",
    "\n",
    "# 모델 구조, 파라미터 개수 확인\n",
    "ANN_model.summary()"
   ]
  },
  {
   "cell_type": "code",
   "execution_count": null,
   "metadata": {
    "id": "3lGSQOni2k--"
   },
   "outputs": [],
   "source": [
    "# 파라미터 형태 직접 확인\n",
    "for ind in range(len(ANN_model.get_weights())):\n",
    "    print(ANN_model.get_weights()[ind].shape)"
   ]
  },
  {
   "cell_type": "markdown",
   "metadata": {
    "id": "gISsVxFAopvo"
   },
   "source": [
    "## Keras 기반 ANN 학습 및 평가"
   ]
  },
  {
   "cell_type": "code",
   "execution_count": null,
   "metadata": {
    "id": "1SNLBAx1opvo",
    "scrolled": true
   },
   "outputs": [],
   "source": [
    "# 모델 학습/검증\n",
    "hist = ANN_model.fit(TrainData, TrainLabel, epochs=Epoch, verbose = 1)\n",
    "Loss, Accuracy = ANN_model.evaluate(TrainData,  TrainLabel, verbose=0)\n",
    "\n",
    "print('Final Loss and Accuracy: {:.4f}, {:.2f}%'.format(Loss, Accuracy*100))"
   ]
  },
  {
   "cell_type": "code",
   "execution_count": null,
   "metadata": {
    "id": "4AmVqsTnkzlw"
   },
   "outputs": [],
   "source": [
    "# 학습 과정 확인(Loss, Accuracy)\n",
    "fig, loss_ax = plt.subplots()\n",
    "acc_ax = loss_ax.twinx()\n",
    "\n",
    "loss_ax.plot(hist.history['loss'], label='train loss', color = \"tab:red\")\n",
    "loss_ax.set_xlabel('epoch')\n",
    "loss_ax.set_ylabel('loss')\n",
    "loss_ax.legend(loc='upper left')\n",
    "\n",
    "acc_ax.plot(hist.history['accuracy'], label='train acc', color = \"tab:blue\")\n",
    "acc_ax.set_ylabel('accuracy')\n",
    "acc_ax.legend(loc='lower left')\n",
    "\n",
    "plt.show()"
   ]
  },
  {
   "cell_type": "code",
   "execution_count": null,
   "metadata": {
    "scrolled": true
   },
   "outputs": [],
   "source": [
    "Loss, Accuracy = ANN_model.evaluate(ValidData,  ValidLabel, verbose=0)\n",
    "\n",
    "print('Validation Accuracy: {:.2f}%'.format(Accuracy*100))"
   ]
  },
  {
   "cell_type": "code",
   "execution_count": null,
   "metadata": {
    "id": "hgflb5V4opvq"
   },
   "outputs": [],
   "source": [
    "# 모델 저장\n",
    "ANN_model.save('./MLmodels/ANN_model.keras')"
   ]
  },
  {
   "cell_type": "markdown",
   "metadata": {
    "id": "YMy5kgyRopvq"
   },
   "source": [
    "## ANN model 불러와서 진단"
   ]
  },
  {
   "cell_type": "code",
   "execution_count": null,
   "metadata": {
    "executionInfo": {
     "elapsed": 1008,
     "status": "ok",
     "timestamp": 1651484283587,
     "user": {
      "displayName": "공과대학/최영운",
      "userId": "17538933824946727174"
     },
     "user_tz": -540
    },
    "id": "O-3monSeopvq"
   },
   "outputs": [],
   "source": [
    "# 모델 불러오기\n",
    "LoadedModel = keras.models.load_model('./MLmodels/ANN_model.keras')"
   ]
  },
  {
   "cell_type": "code",
   "execution_count": null,
   "metadata": {
    "id": "nSuzYn7Hopvq"
   },
   "outputs": [],
   "source": [
    "Loss, Accuracy = LoadedModel.evaluate(ValidData,  ValidLabel, verbose=0)\n",
    "\n",
    "print('[Performance of ANN model] \\n')\n",
    "print('Accuracy : {:.2f}%'.format(Accuracy*100))"
   ]
  },
  {
   "cell_type": "code",
   "execution_count": null,
   "metadata": {
    "id": "o1pcU18Gopvq",
    "scrolled": true
   },
   "outputs": [],
   "source": [
    "# 예측값(확률) 확인\n",
    "Predict_y = LoadedModel.predict(ValidData, verbose = 0)\n",
    "pd.DataFrame(Predict_y)"
   ]
  },
  {
   "cell_type": "code",
   "execution_count": null,
   "metadata": {
    "id": "EOosCo4rIojw"
   },
   "outputs": [],
   "source": []
  },
  {
   "cell_type": "markdown",
   "metadata": {
    "id": "GwXrce4rqLkh"
   },
   "source": [
    "## ++. Confusion Matrix 확인"
   ]
  },
  {
   "cell_type": "code",
   "execution_count": null,
   "metadata": {
    "executionInfo": {
     "elapsed": 2,
     "status": "ok",
     "timestamp": 1651596347031,
     "user": {
      "displayName": "공과대학/최영운",
      "userId": "17538933824946727174"
     },
     "user_tz": -540
    },
    "id": "2pJ30I13udJt"
   },
   "outputs": [],
   "source": [
    "from sklearn.metrics import confusion_matrix\n",
    "import seaborn as sns"
   ]
  },
  {
   "cell_type": "code",
   "execution_count": null,
   "metadata": {
    "scrolled": true
   },
   "outputs": [],
   "source": [
    "# 분류 결과 확인\n",
    "Pred = LoadedModel.predict(ValidData)\n",
    "pd.DataFrame(Pred)"
   ]
  },
  {
   "cell_type": "code",
   "execution_count": null,
   "metadata": {
    "colab": {
     "base_uri": "https://localhost:8080/",
     "height": 488
    },
    "executionInfo": {
     "elapsed": 418,
     "status": "ok",
     "timestamp": 1651596347447,
     "user": {
      "displayName": "공과대학/최영운",
      "userId": "17538933824946727174"
     },
     "user_tz": -540
    },
    "id": "EJ1R_p71qPWi",
    "outputId": "65d34155-925d-43a6-ccac-705ef1de7455"
   },
   "outputs": [],
   "source": [
    "# One-hot encoding -> Label encoding\n",
    "true = np.argmax(ValidLabel, axis=-1)\n",
    "pred = np.argmax(Pred, axis=-1)\n",
    "\n",
    "# Confusion Matrix 생성\n",
    "CM = confusion_matrix(true, pred).T\n",
    "\n",
    "# 데이터의 실제/분류결과 이름\n",
    "x = ['Normal_True', 'Abnormal_True']\n",
    "y = ['Normal_Pred', 'Abnormal_Pred']\n",
    "\n",
    "CM_df = pd.DataFrame(CM,columns=x, index=y)\n",
    "CM_df"
   ]
  },
  {
   "cell_type": "code",
   "execution_count": null,
   "metadata": {
    "colab": {
     "base_uri": "https://localhost:8080/",
     "height": 488
    },
    "executionInfo": {
     "elapsed": 418,
     "status": "ok",
     "timestamp": 1651596347447,
     "user": {
      "displayName": "공과대학/최영운",
      "userId": "17538933824946727174"
     },
     "user_tz": -540
    },
    "id": "EJ1R_p71qPWi",
    "outputId": "65d34155-925d-43a6-ccac-705ef1de7455"
   },
   "outputs": [],
   "source": [
    "# heatmap font size\n",
    "sns.set(font_scale=1.2)\n",
    "\n",
    "# Heatmap 형태로 확인\n",
    "fig = plt.subplots(figsize=(8,8))\n",
    "\n",
    "\n",
    "# 퍼센트\n",
    "sns.heatmap(CM_df/np.sum(CM_df),\n",
    "            cmap='Blues',          # cmap Color\n",
    "            annot=True,            # Value Text\n",
    "            fmt=\".1%\",             # Value type (integer = \"d\")\n",
    "            linewidths=2)\n",
    "\n",
    "# 갯수\n",
    "# sns.heatmap(CM_df,\n",
    "#             cmap='Blues',        # cmap Color\n",
    "#             annot=True,          # Value Text\n",
    "#             fmt=\"d\",             # Value type (integer = \"d\")\n",
    "#             linewidths=2) \n",
    "\n",
    "\n",
    "\n",
    "plt.show()"
   ]
  },
  {
   "cell_type": "code",
   "execution_count": null,
   "metadata": {},
   "outputs": [],
   "source": []
  }
 ],
 "metadata": {
  "kernelspec": {
   "display_name": "Python 3 (ipykernel)",
   "language": "python",
   "name": "python3"
  },
  "language_info": {
   "codemirror_mode": {
    "name": "ipython",
    "version": 3
   },
   "file_extension": ".py",
   "mimetype": "text/x-python",
   "name": "python",
   "nbconvert_exporter": "python",
   "pygments_lexer": "ipython3",
   "version": "3.11.5"
  }
 },
 "nbformat": 4,
 "nbformat_minor": 4
}
