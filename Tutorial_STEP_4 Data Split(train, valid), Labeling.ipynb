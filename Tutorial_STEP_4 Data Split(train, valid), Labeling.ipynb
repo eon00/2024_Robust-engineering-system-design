{
 "cells": [
  {
   "cell_type": "markdown",
   "metadata": {
    "id": "6ZFRFS7S0CZK"
   },
   "source": [
    "## 라이브러리 import"
   ]
  },
  {
   "cell_type": "code",
   "execution_count": null,
   "metadata": {
    "executionInfo": {
     "elapsed": 619,
     "status": "ok",
     "timestamp": 1650302054936,
     "user": {
      "displayName": "공과대학/최영운",
      "userId": "17538933824946727174"
     },
     "user_tz": -540
    },
    "id": "VRVTpWcA0CZL"
   },
   "outputs": [],
   "source": [
    "import pandas as pd\n",
    "import numpy as np\n",
    "import matplotlib.pyplot as plt"
   ]
  },
  {
   "cell_type": "markdown",
   "metadata": {
    "id": "gxlBRHWY0CZL"
   },
   "source": [
    "## 데이터 (최종 선택된 특징데이터) 불러오기"
   ]
  },
  {
   "cell_type": "code",
   "execution_count": null,
   "metadata": {
    "colab": {
     "base_uri": "https://localhost:8080/"
    },
    "executionInfo": {
     "elapsed": 840,
     "status": "ok",
     "timestamp": 1650302071806,
     "user": {
      "displayName": "공과대학/최영운",
      "userId": "17538933824946727174"
     },
     "user_tz": -540
    },
    "id": "lVQ2TSlK0CZM",
    "outputId": "fba0d9f6-a198-40da-8924-155fabf85e89"
   },
   "outputs": [],
   "source": [
    "FeatureSelected = pd.read_csv('./ProcessedData/FeatureSelected.csv', sep=',', header=None)\n",
    "FeatureSelected.shape"
   ]
  },
  {
   "cell_type": "markdown",
   "metadata": {
    "id": "zps3qPZH0CZN"
   },
   "source": [
    "## 학습 데이터와 검증 데이터 분할"
   ]
  },
  {
   "cell_type": "code",
   "execution_count": null,
   "metadata": {},
   "outputs": [],
   "source": [
    "# 데이터 갯수 정의\n",
    "\n",
    "NoOfData  = int(FeatureSelected.shape[0]/2)   # 데이터 개수\n",
    "NoOfValid = int(NoOfData/6)                   # 검증 데이터 개수\n",
    "NoOftrain = NoOfData - NoOfValid              # 학습 데이터 개수\n",
    "\n",
    "NoOfData, NoOfValid, NoOftrain"
   ]
  },
  {
   "cell_type": "code",
   "execution_count": null,
   "metadata": {},
   "outputs": [],
   "source": [
    "# 정상/고장 데이터 분할\n",
    "\n",
    "Normal   = FeatureSelected.iloc[:NoOfData, :]\n",
    "Abnormal = FeatureSelected.iloc[NoOfData:, :]\n",
    "\n",
    "Normal.shape, Abnormal.shape"
   ]
  },
  {
   "cell_type": "code",
   "execution_count": null,
   "metadata": {},
   "outputs": [],
   "source": [
    "# 정상 및 고장 별 학습/검증 데이터 분할\n",
    "\n",
    "Normal_train   = Normal.iloc[  :NoOftrain, :]\n",
    "Abnormal_train = Abnormal.iloc[:NoOftrain, :]\n",
    "\n",
    "Normal_valid   = Normal.iloc[  NoOftrain:, :]\n",
    "Abnormal_valid = Abnormal.iloc[NoOftrain:, :]\n",
    "\n",
    "Normal_train.shape, Abnormal_train.shape, Normal_valid.shape, Abnormal_valid.shape"
   ]
  },
  {
   "cell_type": "code",
   "execution_count": null,
   "metadata": {},
   "outputs": [],
   "source": [
    "# 학습 및 검증 데이터 분할\n",
    "\n",
    "TrainData = pd.DataFrame(np.concatenate([Normal_train, Abnormal_train], axis = 0))\n",
    "ValidData = pd.DataFrame(np.concatenate([Normal_valid, Abnormal_valid], axis = 0))\n",
    "\n",
    "TrainData.shape, ValidData.shape"
   ]
  },
  {
   "cell_type": "markdown",
   "metadata": {
    "id": "AWSMLPA-0CZR"
   },
   "source": [
    "## 학습/검증 데이터 개수에 맞춰 Labeling"
   ]
  },
  {
   "cell_type": "markdown",
   "metadata": {
    "id": "YPCU_Q870CZT"
   },
   "source": [
    "#### One-hot encoding - 정상: [1, 0] // 고장: [0, 1]"
   ]
  },
  {
   "cell_type": "code",
   "execution_count": null,
   "metadata": {
    "colab": {
     "base_uri": "https://localhost:8080/"
    },
    "executionInfo": {
     "elapsed": 2,
     "status": "ok",
     "timestamp": 1650302080199,
     "user": {
      "displayName": "공과대학/최영운",
      "userId": "17538933824946727174"
     },
     "user_tz": -540
    },
    "id": "ijxUhGnZ0CZT",
    "outputId": "c471c5f0-b4e1-45a3-8c91-262c34a1b625",
    "scrolled": true
   },
   "outputs": [],
   "source": [
    "TrainLabel = np.zeros((NoOftrain*2,2) , dtype=int)\n",
    "ValidLabel = np.zeros((NoOfValid*2,2) , dtype=int)\n",
    "\n",
    "\n",
    "TrainLabel[:NoOftrain , 0] = 1    # 정상(학습)데이터 레이블 : [1,0]\n",
    "TrainLabel[NoOftrain: , 1] = 1    # 고장(학습)데이터 레이블 : [0,1]\n",
    "\n",
    "ValidLabel[:NoOfValid , 0] = 1    # 정상(검증)데이터 레이블 : [1,0]\n",
    "ValidLabel[NoOfValid: , 1] = 1    # 고장(검증)데이터 레이블 : [0,1]\n",
    "\n",
    "\n",
    "TrainLabel = pd.DataFrame(TrainLabel)\n",
    "ValidLabel = pd.DataFrame(ValidLabel)\n",
    "\n",
    "TrainLabel.shape, ValidLabel.shape"
   ]
  },
  {
   "cell_type": "markdown",
   "metadata": {
    "id": "BQxACGJL0CZT"
   },
   "source": [
    "## 데이터 및 레이블 저장"
   ]
  },
  {
   "cell_type": "code",
   "execution_count": null,
   "metadata": {
    "executionInfo": {
     "elapsed": 3805,
     "status": "ok",
     "timestamp": 1650302085117,
     "user": {
      "displayName": "공과대학/최영운",
      "userId": "17538933824946727174"
     },
     "user_tz": -540
    },
    "id": "pCdDCAtR0CZT",
    "scrolled": true
   },
   "outputs": [],
   "source": [
    "TrainData.to_csv('./ProcessedData/TrainData.csv', sep = \",\", header = None, index = None)\n",
    "ValidData.to_csv('./ProcessedData/ValidData.csv', sep = \",\", header = None, index = None)\n",
    "\n",
    "TrainLabel.to_csv('./ProcessedData/TrainLabel.csv', sep = \",\", header = None, index = None)\n",
    "ValidLabel.to_csv('./ProcessedData/ValidLabel.csv', sep = \",\", header = None, index = None)"
   ]
  },
  {
   "cell_type": "code",
   "execution_count": null,
   "metadata": {},
   "outputs": [],
   "source": []
  }
 ],
 "metadata": {
  "colab": {
   "collapsed_sections": [],
   "name": "ExerciseCode_AI (1) Data Split(train, valid, test), K-fold, Labeling.ipynb",
   "provenance": []
  },
  "kernelspec": {
   "display_name": "Python 3 (ipykernel)",
   "language": "python",
   "name": "python3"
  },
  "language_info": {
   "codemirror_mode": {
    "name": "ipython",
    "version": 3
   },
   "file_extension": ".py",
   "mimetype": "text/x-python",
   "name": "python",
   "nbconvert_exporter": "python",
   "pygments_lexer": "ipython3",
   "version": "3.11.5"
  }
 },
 "nbformat": 4,
 "nbformat_minor": 1
}
