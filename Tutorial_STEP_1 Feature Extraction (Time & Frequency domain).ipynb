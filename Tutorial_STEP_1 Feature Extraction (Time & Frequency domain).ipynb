{
 "cells": [
  {
   "cell_type": "markdown",
   "metadata": {},
   "source": [
    "## 라이브러리 import"
   ]
  },
  {
   "cell_type": "code",
   "execution_count": null,
   "metadata": {},
   "outputs": [],
   "source": [
    "import pandas as pd\n",
    "import numpy as np\n",
    "import scipy.stats as sp\n",
    "import pywt"
   ]
  },
  {
   "cell_type": "markdown",
   "metadata": {},
   "source": [
    "## 데이터 크기 정의하기"
   ]
  },
  {
   "cell_type": "code",
   "execution_count": null,
   "metadata": {},
   "outputs": [],
   "source": [
    "NoOfData    = 180  # 정상/고장 데이터 각 180개씩 \n",
    "NoOfSensor  = 3    # 가속도(Acceleration), 전압(Voltage), 전류(Current)\n",
    "NoOfFeature = 10   # 특징 개수:10개 (순서: Max, Min, Mean, RMS, Variance, Skewness, Kurtosis, Crest factor, Shape factor, Impulse factor)\n",
    "\n",
    "NoOfData, NoOfSensor, NoOfFeature"
   ]
  },
  {
   "cell_type": "markdown",
   "metadata": {},
   "source": [
    "## Time Domain 특징값 추출 (10 features * 3 sensors = 30개씩)"
   ]
  },
  {
   "cell_type": "code",
   "execution_count": null,
   "metadata": {},
   "outputs": [],
   "source": [
    "def rms(x): # RMS 함수 정의\n",
    "    return np.sqrt(np.mean(x**2))"
   ]
  },
  {
   "cell_type": "code",
   "execution_count": null,
   "metadata": {},
   "outputs": [],
   "source": [
    "# 특징데이터 크기 지정\n",
    "TimeFeature_Normal   = np.zeros((NoOfData, NoOfSensor*NoOfFeature))\n",
    "TimeFeature_Abnormal = np.zeros((NoOfData, NoOfSensor*NoOfFeature))\n",
    "\n",
    "for i in range(NoOfData):\n",
    "    \n",
    "    # 데이터 불러오기\n",
    "    temp_path1 = './SpotWeldingData/Normal_%d.csv'%(i+1)   # Normal 데이터 파일 경로\n",
    "    temp_path2 = './SpotWeldingData/Abnormal_%d.csv'%(i+1) # Abnormal 데이터 파일 경로\n",
    "    temp_data1 = pd.read_csv(temp_path1 , sep=',')         # 임시 Normal 데이터\n",
    "    temp_data2 = pd.read_csv(temp_path2 , sep=',')         # 임시 Abnormal 데이터\n",
    "    \n",
    "    # Time Domain 특징값 추출\n",
    "    for j in range(NoOfSensor):\n",
    "        \n",
    "        # Normal Time Domain Feature\n",
    "        TimeFeature_Normal[i, 10*j+0] = np.max(temp_data1.iloc[:,j])\n",
    "        TimeFeature_Normal[i, 10*j+1] = np.min(temp_data1.iloc[:,j])\n",
    "        TimeFeature_Normal[i, 10*j+2] = np.mean(temp_data1.iloc[:,j])\n",
    "        TimeFeature_Normal[i, 10*j+3] = rms(temp_data1.iloc[:,j])\n",
    "        TimeFeature_Normal[i, 10*j+4] = np.var(temp_data1.iloc[:,j])\n",
    "        TimeFeature_Normal[i, 10*j+5] = sp.skew(temp_data1.iloc[:,j])\n",
    "        TimeFeature_Normal[i, 10*j+6] = sp.kurtosis(temp_data1.iloc[:,j])\n",
    "        TimeFeature_Normal[i, 10*j+7] = np.max(temp_data1.iloc[:,j])/rms(temp_data1.iloc[:,j])\n",
    "        TimeFeature_Normal[i, 10*j+8] = rms(temp_data1.iloc[:,j])/np.mean(np.abs(temp_data1.iloc[:,j]))\n",
    "        TimeFeature_Normal[i, 10*j+9] = np.max(temp_data1.iloc[:,j])/np.mean(np.abs(temp_data1.iloc[:,j]))\n",
    "        \n",
    "        # Abnormal Time Domain Feature\n",
    "        TimeFeature_Abnormal[i, 10*j+0] = np.max(temp_data2.iloc[:,j])\n",
    "        TimeFeature_Abnormal[i, 10*j+1] = np.min(temp_data2.iloc[:,j])\n",
    "        TimeFeature_Abnormal[i, 10*j+2] = np.mean(temp_data2.iloc[:,j])\n",
    "        TimeFeature_Abnormal[i, 10*j+3] = rms(temp_data2.iloc[:,j])\n",
    "        TimeFeature_Abnormal[i, 10*j+4] = np.var(temp_data2.iloc[:,j])\n",
    "        TimeFeature_Abnormal[i, 10*j+5] = sp.skew(temp_data2.iloc[:,j])\n",
    "        TimeFeature_Abnormal[i, 10*j+6] = sp.kurtosis(temp_data2.iloc[:,j])\n",
    "        TimeFeature_Abnormal[i, 10*j+7] = np.max(temp_data2.iloc[:,j])/rms(temp_data2.iloc[:,j])\n",
    "        TimeFeature_Abnormal[i, 10*j+8] = rms(temp_data2.iloc[:,j])/np.mean(np.abs(temp_data2.iloc[:,j]))\n",
    "        TimeFeature_Abnormal[i, 10*j+9] = np.max(temp_data2.iloc[:,j])/np.mean(np.abs(temp_data2.iloc[:,j]))\n",
    "        \n",
    "print(TimeFeature_Normal.shape)\n",
    "print(TimeFeature_Abnormal.shape)"
   ]
  },
  {
   "cell_type": "markdown",
   "metadata": {},
   "source": [
    "Normal, Abnormal 데이터 합치기  "
   ]
  },
  {
   "cell_type": "code",
   "execution_count": null,
   "metadata": {},
   "outputs": [],
   "source": [
    "TimeFeature = np.concatenate([TimeFeature_Normal, TimeFeature_Abnormal] , axis=0)\n",
    "TimeFeature.shape"
   ]
  },
  {
   "cell_type": "markdown",
   "metadata": {},
   "source": [
    ".\n",
    "\n",
    ".\n",
    "\n",
    ".\n",
    "\n"
   ]
  },
  {
   "cell_type": "markdown",
   "metadata": {},
   "source": [
    "## Frequency Domain 특징값 추출 (10 features \\* 8 wavelet levels * 3 sensors = 240개씩)"
   ]
  },
  {
   "cell_type": "code",
   "execution_count": null,
   "metadata": {},
   "outputs": [],
   "source": [
    "# Wavelet options\n",
    "\n",
    "MotherWavelet = pywt.Wavelet('haar')   # Mother wavelet (모함수) 지정\n",
    "Level   = 8                            # Wavelet 분해 레벨 지정\n",
    "select  = 8                            # 특징추출 영역 고주파 영역부터 개수 지정 (d1~)"
   ]
  },
  {
   "cell_type": "code",
   "execution_count": null,
   "metadata": {},
   "outputs": [],
   "source": [
    "#Frequency Domain 특징값 추출 (Wavelet Transform 기반)\n",
    "FreqFeature_Normal   = np.zeros(shape=(NoOfData, NoOfSensor*NoOfFeature*select))\n",
    "FreqFeature_Abnormal = np.zeros(shape=(NoOfData, NoOfSensor*NoOfFeature*select))\n",
    "\n",
    "for i in range(NoOfData):\n",
    "    \n",
    "    # 데이터 불러오기\n",
    "    temp_path1 = './SpotWeldingData/Normal_%d.csv'%(i+1)    # Normal 데이터 파일 경로\n",
    "    temp_path2 = './SpotWeldingData/Abnormal_%d.csv'%(i+1)  # Abnormal 데이터 파일 경로\n",
    "    temp_data1 = np.array(pd.read_csv(temp_path1 , sep=',')) # 임시 Normal 데이터\n",
    "    temp_data2 = np.array(pd.read_csv(temp_path2 , sep=',')) # 임시 Abnormal 데이터\n",
    "    Coef1      = pywt.wavedec(temp_data1, MotherWavelet, level=Level, axis=0)\n",
    "    Coef2      = pywt.wavedec(temp_data2, MotherWavelet, level=Level, axis=0)\n",
    "    \n",
    "    # Frequency Domain 특징값 추출\n",
    "    for j in range(NoOfSensor):\n",
    "        \n",
    "        for k in range(select):\n",
    "            coef1 = Coef1[Level-k]\n",
    "            coef2 = Coef2[Level-k]\n",
    "            \n",
    "            # Normal Frequency Domain Feature\n",
    "            FreqFeature_Normal[i, NoOfFeature*j*select+k*NoOfFeature+0] = np.max(coef1[:,j])\n",
    "            FreqFeature_Normal[i, NoOfFeature*j*select+k*NoOfFeature+1] = np.min(coef1[:,j])\n",
    "            FreqFeature_Normal[i, NoOfFeature*j*select+k*NoOfFeature+2] = np.mean(coef1[:,j])\n",
    "            FreqFeature_Normal[i, NoOfFeature*j*select+k*NoOfFeature+3] = rms(coef1[:,j])\n",
    "            FreqFeature_Normal[i, NoOfFeature*j*select+k*NoOfFeature+4] = np.var(coef1[:,j])\n",
    "            FreqFeature_Normal[i, NoOfFeature*j*select+k*NoOfFeature+5] = sp.skew(coef1[:,j])\n",
    "            FreqFeature_Normal[i, NoOfFeature*j*select+k*NoOfFeature+6] = sp.kurtosis(coef1[:,j])\n",
    "            FreqFeature_Normal[i, NoOfFeature*j*select+k*NoOfFeature+7] = np.max(coef1[:,j])/rms(coef1[:,j])\n",
    "            FreqFeature_Normal[i, NoOfFeature*j*select+k*NoOfFeature+8] = rms(coef1[:,j])/np.mean(np.abs(coef1[:,j]))\n",
    "            FreqFeature_Normal[i, NoOfFeature*j*select+k*NoOfFeature+9] = np.max(coef1[:,j])/np.mean(np.abs(coef1[:,j]))\n",
    "            \n",
    "            # Abnormal Frequency Domain Feature\n",
    "            FreqFeature_Abnormal[i, NoOfFeature*j*select+k*NoOfFeature+0] = np.max(coef2[:,j])\n",
    "            FreqFeature_Abnormal[i, NoOfFeature*j*select+k*NoOfFeature+1] = np.min(coef2[:,j])\n",
    "            FreqFeature_Abnormal[i, NoOfFeature*j*select+k*NoOfFeature+2] = np.mean(coef2[:,j])\n",
    "            FreqFeature_Abnormal[i, NoOfFeature*j*select+k*NoOfFeature+3] = rms(coef2[:,j])\n",
    "            FreqFeature_Abnormal[i, NoOfFeature*j*select+k*NoOfFeature+4] = np.var(coef2[:,j])\n",
    "            FreqFeature_Abnormal[i, NoOfFeature*j*select+k*NoOfFeature+5] = sp.skew(coef2[:,j])\n",
    "            FreqFeature_Abnormal[i, NoOfFeature*j*select+k*NoOfFeature+6] = sp.kurtosis(coef2[:,j])\n",
    "            FreqFeature_Abnormal[i, NoOfFeature*j*select+k*NoOfFeature+7] = np.max(coef2[:,j])/rms(coef2[:,j])\n",
    "            FreqFeature_Abnormal[i, NoOfFeature*j*select+k*NoOfFeature+8] = rms(coef2[:,j])/np.mean(np.abs(coef2[:,j]))\n",
    "            FreqFeature_Abnormal[i, NoOfFeature*j*select+k*NoOfFeature+9] = np.max(coef2[:,j])/np.mean(np.abs(coef2[:,j]))\n",
    "\n",
    "print(FreqFeature_Normal.shape)\n",
    "print(FreqFeature_Abnormal.shape)"
   ]
  },
  {
   "cell_type": "markdown",
   "metadata": {},
   "source": [
    "Normal, Abnormal 특징값 합치기      "
   ]
  },
  {
   "cell_type": "code",
   "execution_count": null,
   "metadata": {},
   "outputs": [],
   "source": [
    "FreqFeature = np.concatenate([FreqFeature_Normal, FreqFeature_Abnormal] , axis=0)\n",
    "FreqFeature.shape"
   ]
  },
  {
   "cell_type": "markdown",
   "metadata": {},
   "source": [
    ".\n",
    "\n",
    ".\n",
    "\n",
    ".\n",
    "\n"
   ]
  },
  {
   "cell_type": "markdown",
   "metadata": {},
   "source": [
    "## Feature 통합 (Time domain 30개 + Freq. domain 240 = 270개)"
   ]
  },
  {
   "cell_type": "code",
   "execution_count": null,
   "metadata": {},
   "outputs": [],
   "source": [
    "Features = np.concatenate([TimeFeature, FreqFeature] , axis=1)\n",
    "\n",
    "print(\"Feature Data Size :\", Features.shape)\n",
    "print(\"= 데이터 %d개(정상/고장 각 %d개씩)가 각각 %d개의 특징값으로 구성됨\"%(Features.shape[0], Features.shape[0]/2, Features.shape[1]))"
   ]
  },
  {
   "cell_type": "markdown",
   "metadata": {},
   "source": [
    "저장에 용이한 Data frame 형식으로 변환"
   ]
  },
  {
   "cell_type": "code",
   "execution_count": null,
   "metadata": {},
   "outputs": [],
   "source": [
    "FeatureData = pd.DataFrame(Features)\n",
    "FeatureData"
   ]
  },
  {
   "cell_type": "markdown",
   "metadata": {},
   "source": [
    "추출된 특징 데이터 저장 (.csv 파일)"
   ]
  },
  {
   "cell_type": "code",
   "execution_count": null,
   "metadata": {},
   "outputs": [],
   "source": [
    "path = './ProcessedData/FeatureData.csv'   # path = '파일 경로/저장할 파일 이름'\n",
    "FeatureData.to_csv(path, sep=',', header=None , index=None)"
   ]
  },
  {
   "cell_type": "code",
   "execution_count": null,
   "metadata": {},
   "outputs": [],
   "source": []
  }
 ],
 "metadata": {
  "kernelspec": {
   "display_name": "Python 3 (ipykernel)",
   "language": "python",
   "name": "python3"
  },
  "language_info": {
   "codemirror_mode": {
    "name": "ipython",
    "version": 3
   },
   "file_extension": ".py",
   "mimetype": "text/x-python",
   "name": "python",
   "nbconvert_exporter": "python",
   "pygments_lexer": "ipython3",
   "version": "3.10.13"
  }
 },
 "nbformat": 4,
 "nbformat_minor": 2
}
